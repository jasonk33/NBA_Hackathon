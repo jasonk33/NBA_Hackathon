{
 "cells": [
  {
   "cell_type": "code",
   "execution_count": 19,
   "metadata": {
    "collapsed": true,
    "hideCode": true,
    "hidePrompt": true
   },
   "outputs": [],
   "source": [
    "import pandas as pd\n",
    "import copy\n",
    "%load_ext autotime"
   ]
  },
  {
   "cell_type": "code",
   "execution_count": 14,
   "metadata": {
    "collapsed": true,
    "hideCode": true,
    "hidePrompt": true
   },
   "outputs": [],
   "source": [
    "game_data = pd.read_excel('/Users/jason.katz/Downloads/Analytics_Attachment.xlsx', \"2016_17_NBA_Scores\")\n",
    "team_data = pd.read_excel('/Users/jason.katz/Downloads/Analytics_Attachment.xlsx', \"Division_Info\")"
   ]
  },
  {
   "cell_type": "code",
   "execution_count": 79,
   "metadata": {
    "hideCode": true,
    "hidePrompt": true
   },
   "outputs": [
    {
     "name": "stdout",
     "output_type": "stream",
     "text": [
      "time: 4.25 ms\n"
     ]
    }
   ],
   "source": [
    "def create_game_dicts(game_data):\n",
    "    games = []\n",
    "    for index, row in game_data.iterrows():\n",
    "        game = {}\n",
    "        if row['Winner'] == 'Home':\n",
    "            game[row['Home Team']] = 'Winner'\n",
    "            game[row['Away Team']] = 'Loser'\n",
    "        else:\n",
    "            game[row['Home Team']] = 'Loser'\n",
    "            game[row['Away Team']] = 'Winner'\n",
    "        games.append(game)\n",
    "    return games"
   ]
  },
  {
   "cell_type": "code",
   "execution_count": 90,
   "metadata": {
    "hideCode": true,
    "hidePrompt": true
   },
   "outputs": [
    {
     "name": "stdout",
     "output_type": "stream",
     "text": [
      "time: 2.09 ms\n"
     ]
    }
   ],
   "source": [
    "def simulate_games(games, teams):\n",
    "    for game in games:\n",
    "        for team in game:\n",
    "            teams[team]['Games_Played'] += 1\n",
    "            if game[team] == 'Loser':\n",
    "                teams[team]['Max_Wins'] -= 1"
   ]
  },
  {
   "cell_type": "code",
   "execution_count": 260,
   "metadata": {
    "hideCode": true,
    "hidePrompt": true
   },
   "outputs": [
    {
     "name": "stdout",
     "output_type": "stream",
     "text": [
      "time: 2.28 ms\n"
     ]
    }
   ],
   "source": [
    "def initialize_team_standings(team_data):\n",
    "    teams = {}\n",
    "    for index, row in team_data.iterrows():\n",
    "        teams[row['Team_Name']] = {'Division': row['Division_id'], 'Conference': row['Conference_id'], 'Games_Played': 0, \n",
    "                                  'Max_Wins': 82}\n",
    "    return teams"
   ]
  },
  {
   "cell_type": "code",
   "execution_count": 286,
   "metadata": {
    "hideCode": true,
    "hidePrompt": true
   },
   "outputs": [
    {
     "name": "stdout",
     "output_type": "stream",
     "text": [
      "time: 3.45 ms\n"
     ]
    }
   ],
   "source": [
    "def get_league_data(team_data):\n",
    "    east_divisions = set(team_data[team_data['Conference_id'] == 'East']['Division_id'])\n",
    "    west_divisions = set(team_data[team_data['Conference_id'] == 'West']['Division_id'])\n",
    "    east_teams = set(team_data[team_data['Conference_id'] == 'East']['Team_Name'])\n",
    "    west_teams = set(team_data[team_data['Conference_id'] == 'West']['Team_Name'])\n",
    "    return {'East': {'Divisions': east_divisions, 'Teams': east_teams}, \n",
    "            'West': {'Divisions': west_divisions, 'Teams': west_teams}}"
   ]
  },
  {
   "cell_type": "code",
   "execution_count": null,
   "metadata": {
    "collapsed": true,
    "hideCode": true,
    "hidePrompt": true
   },
   "outputs": [],
   "source": [
    "league_structure = {'East': {'Teams': [], 'Atlantic': []}}\n",
    "for index, row in team_data.iterrows():\n",
    "    league_structure['Conference'] = row['Conference_id']"
   ]
  },
  {
   "cell_type": "code",
   "execution_count": null,
   "metadata": {
    "collapsed": true,
    "hideCode": true,
    "hidePrompt": true
   },
   "outputs": [],
   "source": []
  },
  {
   "cell_type": "code",
   "execution_count": 301,
   "metadata": {
    "hideCode": true,
    "hidePrompt": true
   },
   "outputs": [
    {
     "data": {
      "text/html": [
       "<div>\n",
       "<style>\n",
       "    .dataframe thead tr:only-child th {\n",
       "        text-align: right;\n",
       "    }\n",
       "\n",
       "    .dataframe thead th {\n",
       "        text-align: left;\n",
       "    }\n",
       "\n",
       "    .dataframe tbody tr th {\n",
       "        vertical-align: top;\n",
       "    }\n",
       "</style>\n",
       "<table border=\"1\" class=\"dataframe\">\n",
       "  <thead>\n",
       "    <tr style=\"text-align: right;\">\n",
       "      <th></th>\n",
       "      <th>Team_Name</th>\n",
       "      <th>Division_id</th>\n",
       "      <th>Conference_id</th>\n",
       "    </tr>\n",
       "  </thead>\n",
       "  <tbody>\n",
       "    <tr>\n",
       "      <th>0</th>\n",
       "      <td>Boston Celtics</td>\n",
       "      <td>Atlantic</td>\n",
       "      <td>East</td>\n",
       "    </tr>\n",
       "    <tr>\n",
       "      <th>1</th>\n",
       "      <td>Brooklyn Nets</td>\n",
       "      <td>Atlantic</td>\n",
       "      <td>East</td>\n",
       "    </tr>\n",
       "    <tr>\n",
       "      <th>2</th>\n",
       "      <td>New York Knicks</td>\n",
       "      <td>Atlantic</td>\n",
       "      <td>East</td>\n",
       "    </tr>\n",
       "    <tr>\n",
       "      <th>3</th>\n",
       "      <td>Philadelphia 76ers</td>\n",
       "      <td>Atlantic</td>\n",
       "      <td>East</td>\n",
       "    </tr>\n",
       "    <tr>\n",
       "      <th>4</th>\n",
       "      <td>Toronto Raptors</td>\n",
       "      <td>Atlantic</td>\n",
       "      <td>East</td>\n",
       "    </tr>\n",
       "    <tr>\n",
       "      <th>5</th>\n",
       "      <td>Chicago Bulls</td>\n",
       "      <td>Central</td>\n",
       "      <td>East</td>\n",
       "    </tr>\n",
       "    <tr>\n",
       "      <th>6</th>\n",
       "      <td>Cleveland Cavaliers</td>\n",
       "      <td>Central</td>\n",
       "      <td>East</td>\n",
       "    </tr>\n",
       "    <tr>\n",
       "      <th>7</th>\n",
       "      <td>Detroit Pistons</td>\n",
       "      <td>Central</td>\n",
       "      <td>East</td>\n",
       "    </tr>\n",
       "    <tr>\n",
       "      <th>8</th>\n",
       "      <td>Indiana Pacers</td>\n",
       "      <td>Central</td>\n",
       "      <td>East</td>\n",
       "    </tr>\n",
       "    <tr>\n",
       "      <th>9</th>\n",
       "      <td>Milwaukee Bucks</td>\n",
       "      <td>Central</td>\n",
       "      <td>East</td>\n",
       "    </tr>\n",
       "    <tr>\n",
       "      <th>10</th>\n",
       "      <td>Atlanta Hawks</td>\n",
       "      <td>Southeast</td>\n",
       "      <td>East</td>\n",
       "    </tr>\n",
       "    <tr>\n",
       "      <th>11</th>\n",
       "      <td>Charlotte Hornets</td>\n",
       "      <td>Southeast</td>\n",
       "      <td>East</td>\n",
       "    </tr>\n",
       "    <tr>\n",
       "      <th>12</th>\n",
       "      <td>Miami Heat</td>\n",
       "      <td>Southeast</td>\n",
       "      <td>East</td>\n",
       "    </tr>\n",
       "    <tr>\n",
       "      <th>13</th>\n",
       "      <td>Orlando Magic</td>\n",
       "      <td>Southeast</td>\n",
       "      <td>East</td>\n",
       "    </tr>\n",
       "    <tr>\n",
       "      <th>14</th>\n",
       "      <td>Washington Wizards</td>\n",
       "      <td>Southeast</td>\n",
       "      <td>East</td>\n",
       "    </tr>\n",
       "    <tr>\n",
       "      <th>15</th>\n",
       "      <td>Denver Nuggets</td>\n",
       "      <td>Northwest</td>\n",
       "      <td>West</td>\n",
       "    </tr>\n",
       "    <tr>\n",
       "      <th>16</th>\n",
       "      <td>Minnesota Timberwolves</td>\n",
       "      <td>Northwest</td>\n",
       "      <td>West</td>\n",
       "    </tr>\n",
       "    <tr>\n",
       "      <th>17</th>\n",
       "      <td>Oklahoma City Thunder</td>\n",
       "      <td>Northwest</td>\n",
       "      <td>West</td>\n",
       "    </tr>\n",
       "    <tr>\n",
       "      <th>18</th>\n",
       "      <td>Portland Trail Blazers</td>\n",
       "      <td>Northwest</td>\n",
       "      <td>West</td>\n",
       "    </tr>\n",
       "    <tr>\n",
       "      <th>19</th>\n",
       "      <td>Utah Jazz</td>\n",
       "      <td>Northwest</td>\n",
       "      <td>West</td>\n",
       "    </tr>\n",
       "    <tr>\n",
       "      <th>20</th>\n",
       "      <td>Golden State Warriors</td>\n",
       "      <td>Pacific</td>\n",
       "      <td>West</td>\n",
       "    </tr>\n",
       "    <tr>\n",
       "      <th>21</th>\n",
       "      <td>LA Clippers</td>\n",
       "      <td>Pacific</td>\n",
       "      <td>West</td>\n",
       "    </tr>\n",
       "    <tr>\n",
       "      <th>22</th>\n",
       "      <td>Los Angeles Lakers</td>\n",
       "      <td>Pacific</td>\n",
       "      <td>West</td>\n",
       "    </tr>\n",
       "    <tr>\n",
       "      <th>23</th>\n",
       "      <td>Phoenix Suns</td>\n",
       "      <td>Pacific</td>\n",
       "      <td>West</td>\n",
       "    </tr>\n",
       "    <tr>\n",
       "      <th>24</th>\n",
       "      <td>Sacramento Kings</td>\n",
       "      <td>Pacific</td>\n",
       "      <td>West</td>\n",
       "    </tr>\n",
       "    <tr>\n",
       "      <th>25</th>\n",
       "      <td>Dallas Mavericks</td>\n",
       "      <td>Southwest</td>\n",
       "      <td>West</td>\n",
       "    </tr>\n",
       "    <tr>\n",
       "      <th>26</th>\n",
       "      <td>Houston Rockets</td>\n",
       "      <td>Southwest</td>\n",
       "      <td>West</td>\n",
       "    </tr>\n",
       "    <tr>\n",
       "      <th>27</th>\n",
       "      <td>Memphis Grizzlies</td>\n",
       "      <td>Southwest</td>\n",
       "      <td>West</td>\n",
       "    </tr>\n",
       "    <tr>\n",
       "      <th>28</th>\n",
       "      <td>New Orleans Pelicans</td>\n",
       "      <td>Southwest</td>\n",
       "      <td>West</td>\n",
       "    </tr>\n",
       "    <tr>\n",
       "      <th>29</th>\n",
       "      <td>San Antonio Spurs</td>\n",
       "      <td>Southwest</td>\n",
       "      <td>West</td>\n",
       "    </tr>\n",
       "  </tbody>\n",
       "</table>\n",
       "</div>"
      ],
      "text/plain": [
       "                 Team_Name Division_id Conference_id\n",
       "0           Boston Celtics    Atlantic          East\n",
       "1            Brooklyn Nets    Atlantic          East\n",
       "2          New York Knicks    Atlantic          East\n",
       "3       Philadelphia 76ers    Atlantic          East\n",
       "4          Toronto Raptors    Atlantic          East\n",
       "5            Chicago Bulls     Central          East\n",
       "6      Cleveland Cavaliers     Central          East\n",
       "7          Detroit Pistons     Central          East\n",
       "8           Indiana Pacers     Central          East\n",
       "9          Milwaukee Bucks     Central          East\n",
       "10           Atlanta Hawks   Southeast          East\n",
       "11       Charlotte Hornets   Southeast          East\n",
       "12              Miami Heat   Southeast          East\n",
       "13           Orlando Magic   Southeast          East\n",
       "14      Washington Wizards   Southeast          East\n",
       "15          Denver Nuggets   Northwest          West\n",
       "16  Minnesota Timberwolves   Northwest          West\n",
       "17   Oklahoma City Thunder   Northwest          West\n",
       "18  Portland Trail Blazers   Northwest          West\n",
       "19               Utah Jazz   Northwest          West\n",
       "20   Golden State Warriors     Pacific          West\n",
       "21             LA Clippers     Pacific          West\n",
       "22      Los Angeles Lakers     Pacific          West\n",
       "23            Phoenix Suns     Pacific          West\n",
       "24        Sacramento Kings     Pacific          West\n",
       "25        Dallas Mavericks   Southwest          West\n",
       "26         Houston Rockets   Southwest          West\n",
       "27       Memphis Grizzlies   Southwest          West\n",
       "28    New Orleans Pelicans   Southwest          West\n",
       "29       San Antonio Spurs   Southwest          West"
      ]
     },
     "execution_count": 301,
     "metadata": {},
     "output_type": "execute_result"
    },
    {
     "name": "stdout",
     "output_type": "stream",
     "text": [
      "time: 11.7 ms\n"
     ]
    }
   ],
   "source": [
    "team_data"
   ]
  },
  {
   "cell_type": "code",
   "execution_count": 296,
   "metadata": {},
   "outputs": [
    {
     "data": {
      "text/plain": [
       "{'Atlanta Hawks': {'Conference': 'East',\n",
       "  'Division': 'Southeast',\n",
       "  'Games_Played': 82,\n",
       "  'Max_Wins': 43},\n",
       " 'Boston Celtics': {'Conference': 'East',\n",
       "  'Division': 'Atlantic',\n",
       "  'Games_Played': 82,\n",
       "  'Max_Wins': 53},\n",
       " 'Brooklyn Nets': {'Conference': 'East',\n",
       "  'Division': 'Atlantic',\n",
       "  'Games_Played': 82,\n",
       "  'Max_Wins': 20},\n",
       " 'Charlotte Hornets': {'Conference': 'East',\n",
       "  'Division': 'Southeast',\n",
       "  'Games_Played': 82,\n",
       "  'Max_Wins': 36},\n",
       " 'Chicago Bulls': {'Conference': 'East',\n",
       "  'Division': 'Central',\n",
       "  'Games_Played': 82,\n",
       "  'Max_Wins': 41},\n",
       " 'Cleveland Cavaliers': {'Conference': 'East',\n",
       "  'Division': 'Central',\n",
       "  'Games_Played': 82,\n",
       "  'Max_Wins': 51},\n",
       " 'Dallas Mavericks': {'Conference': 'West',\n",
       "  'Division': 'Southwest',\n",
       "  'Games_Played': 82,\n",
       "  'Max_Wins': 33},\n",
       " 'Denver Nuggets': {'Conference': 'West',\n",
       "  'Division': 'Northwest',\n",
       "  'Games_Played': 82,\n",
       "  'Max_Wins': 40},\n",
       " 'Detroit Pistons': {'Conference': 'East',\n",
       "  'Division': 'Central',\n",
       "  'Games_Played': 82,\n",
       "  'Max_Wins': 37},\n",
       " 'Golden State Warriors': {'Conference': 'West',\n",
       "  'Division': 'Pacific',\n",
       "  'Games_Played': 82,\n",
       "  'Max_Wins': 67},\n",
       " 'Houston Rockets': {'Conference': 'West',\n",
       "  'Division': 'Southwest',\n",
       "  'Games_Played': 82,\n",
       "  'Max_Wins': 55},\n",
       " 'Indiana Pacers': {'Conference': 'East',\n",
       "  'Division': 'Central',\n",
       "  'Games_Played': 82,\n",
       "  'Max_Wins': 42},\n",
       " 'LA Clippers': {'Conference': 'West',\n",
       "  'Division': 'Pacific',\n",
       "  'Games_Played': 82,\n",
       "  'Max_Wins': 51},\n",
       " 'Los Angeles Lakers': {'Conference': 'West',\n",
       "  'Division': 'Pacific',\n",
       "  'Games_Played': 82,\n",
       "  'Max_Wins': 26},\n",
       " 'Memphis Grizzlies': {'Conference': 'West',\n",
       "  'Division': 'Southwest',\n",
       "  'Games_Played': 82,\n",
       "  'Max_Wins': 43},\n",
       " 'Miami Heat': {'Conference': 'East',\n",
       "  'Division': 'Southeast',\n",
       "  'Games_Played': 82,\n",
       "  'Max_Wins': 41},\n",
       " 'Milwaukee Bucks': {'Conference': 'East',\n",
       "  'Division': 'Central',\n",
       "  'Games_Played': 82,\n",
       "  'Max_Wins': 42},\n",
       " 'Minnesota Timberwolves': {'Conference': 'West',\n",
       "  'Division': 'Northwest',\n",
       "  'Games_Played': 82,\n",
       "  'Max_Wins': 31},\n",
       " 'New Orleans Pelicans': {'Conference': 'West',\n",
       "  'Division': 'Southwest',\n",
       "  'Games_Played': 82,\n",
       "  'Max_Wins': 34},\n",
       " 'New York Knicks': {'Conference': 'East',\n",
       "  'Division': 'Atlantic',\n",
       "  'Games_Played': 82,\n",
       "  'Max_Wins': 31},\n",
       " 'Oklahoma City Thunder': {'Conference': 'West',\n",
       "  'Division': 'Northwest',\n",
       "  'Games_Played': 82,\n",
       "  'Max_Wins': 47},\n",
       " 'Orlando Magic': {'Conference': 'East',\n",
       "  'Division': 'Southeast',\n",
       "  'Games_Played': 82,\n",
       "  'Max_Wins': 29},\n",
       " 'Philadelphia 76ers': {'Conference': 'East',\n",
       "  'Division': 'Atlantic',\n",
       "  'Games_Played': 82,\n",
       "  'Max_Wins': 28},\n",
       " 'Phoenix Suns': {'Conference': 'West',\n",
       "  'Division': 'Pacific',\n",
       "  'Games_Played': 82,\n",
       "  'Max_Wins': 24},\n",
       " 'Portland Trail Blazers': {'Conference': 'West',\n",
       "  'Division': 'Northwest',\n",
       "  'Games_Played': 82,\n",
       "  'Max_Wins': 41},\n",
       " 'Sacramento Kings': {'Conference': 'West',\n",
       "  'Division': 'Pacific',\n",
       "  'Games_Played': 82,\n",
       "  'Max_Wins': 32},\n",
       " 'San Antonio Spurs': {'Conference': 'West',\n",
       "  'Division': 'Southwest',\n",
       "  'Games_Played': 82,\n",
       "  'Max_Wins': 61},\n",
       " 'Toronto Raptors': {'Conference': 'East',\n",
       "  'Division': 'Atlantic',\n",
       "  'Games_Played': 82,\n",
       "  'Max_Wins': 51},\n",
       " 'Utah Jazz': {'Conference': 'West',\n",
       "  'Division': 'Northwest',\n",
       "  'Games_Played': 82,\n",
       "  'Max_Wins': 51},\n",
       " 'Washington Wizards': {'Conference': 'East',\n",
       "  'Division': 'Southeast',\n",
       "  'Games_Played': 82,\n",
       "  'Max_Wins': 49}}"
      ]
     },
     "execution_count": 296,
     "metadata": {},
     "output_type": "execute_result"
    },
    {
     "name": "stdout",
     "output_type": "stream",
     "text": [
      "time: 6.03 ms\n"
     ]
    }
   ],
   "source": [
    "team_standings"
   ]
  },
  {
   "cell_type": "code",
   "execution_count": 299,
   "metadata": {
    "hideCode": true,
    "hidePrompt": true
   },
   "outputs": [
    {
     "data": {
      "text/plain": [
       "{'East': {'Divisions': {'Atlantic', 'Central', 'Southeast'},\n",
       "  'Teams': {'Atlanta Hawks',\n",
       "   'Boston Celtics',\n",
       "   'Brooklyn Nets',\n",
       "   'Charlotte Hornets',\n",
       "   'Chicago Bulls',\n",
       "   'Cleveland Cavaliers',\n",
       "   'Detroit Pistons',\n",
       "   'Indiana Pacers',\n",
       "   'Miami Heat',\n",
       "   'Milwaukee Bucks',\n",
       "   'New York Knicks',\n",
       "   'Orlando Magic',\n",
       "   'Philadelphia 76ers',\n",
       "   'Toronto Raptors',\n",
       "   'Washington Wizards'}},\n",
       " 'West': {'Divisions': {'Northwest', 'Pacific', 'Southwest'},\n",
       "  'Teams': {'Dallas Mavericks',\n",
       "   'Denver Nuggets',\n",
       "   'Golden State Warriors',\n",
       "   'Houston Rockets',\n",
       "   'LA Clippers',\n",
       "   'Los Angeles Lakers',\n",
       "   'Memphis Grizzlies',\n",
       "   'Minnesota Timberwolves',\n",
       "   'New Orleans Pelicans',\n",
       "   'Oklahoma City Thunder',\n",
       "   'Phoenix Suns',\n",
       "   'Portland Trail Blazers',\n",
       "   'Sacramento Kings',\n",
       "   'San Antonio Spurs',\n",
       "   'Utah Jazz'}}}"
      ]
     },
     "execution_count": 299,
     "metadata": {},
     "output_type": "execute_result"
    },
    {
     "name": "stdout",
     "output_type": "stream",
     "text": [
      "time: 3 ms\n"
     ]
    }
   ],
   "source": [
    "league_data_test"
   ]
  },
  {
   "cell_type": "code",
   "execution_count": 273,
   "metadata": {
    "hideCode": true,
    "hidePrompt": true
   },
   "outputs": [
    {
     "name": "stdout",
     "output_type": "stream",
     "text": [
      "Boston Celtics\n",
      "Brooklyn Nets\n",
      "New York Knicks\n",
      "Philadelphia 76ers\n",
      "Toronto Raptors\n",
      "Chicago Bulls\n",
      "Cleveland Cavaliers\n",
      "Detroit Pistons\n",
      "Indiana Pacers\n",
      "Milwaukee Bucks\n",
      "Atlanta Hawks\n",
      "Charlotte Hornets\n",
      "Miami Heat\n",
      "Orlando Magic\n",
      "Washington Wizards\n",
      "Denver Nuggets\n",
      "Minnesota Timberwolves\n",
      "Oklahoma City Thunder\n",
      "Portland Trail Blazers\n",
      "Utah Jazz\n",
      "Golden State Warriors\n",
      "LA Clippers\n",
      "Los Angeles Lakers\n",
      "Phoenix Suns\n",
      "Sacramento Kings\n",
      "Dallas Mavericks\n",
      "Houston Rockets\n",
      "Memphis Grizzlies\n",
      "New Orleans Pelicans\n",
      "San Antonio Spurs\n",
      "time: 3.58 ms\n"
     ]
    }
   ],
   "source": [
    "for team, info in team_standings.items():\n",
    "    if info['Conference'] == 'East':\n",
    "        team"
   ]
  },
  {
   "cell_type": "code",
   "execution_count": 291,
   "metadata": {
    "hideCode": true,
    "hidePrompt": true,
    "scrolled": false
   },
   "outputs": [
    {
     "name": "stdout",
     "output_type": "stream",
     "text": [
      "time: 328 ms\n"
     ]
    }
   ],
   "source": [
    "league_data = get_league_data(team_data)\n",
    "team_standings = initialize_team_standings(team_data)\n",
    "days = []\n",
    "first_game_date = game_data.iloc[0,0]\n",
    "first_game_index = 0\n",
    "for index, row in game_data.iloc[0:].iterrows():\n",
    "    if row['Date'] != first_game_date:\n",
    "        days.append(DayOfGames(game_data.iloc[first_game_index:index], team_standings, league_data))\n",
    "        first_game_index = index\n",
    "        first_game_date = row['Date']\n",
    "days.append(DayOfGames(game_data.iloc[first_game_index:index+1], team_standings, league_data))"
   ]
  },
  {
   "cell_type": "code",
   "execution_count": 287,
   "metadata": {
    "hideCode": true,
    "hidePrompt": true
   },
   "outputs": [
    {
     "name": "stdout",
     "output_type": "stream",
     "text": [
      "time: 14.3 ms\n"
     ]
    }
   ],
   "source": [
    "class DayOfGames(object):\n",
    "    def __init__(self, data, team_standings, league_data):\n",
    "        self.data = data\n",
    "        self.league_data = league_data\n",
    "        self.date = self.data.iloc[0,0]\n",
    "        self.games = self.create_game_dicts()\n",
    "        self.team_standings_universal = team_standings\n",
    "        self.add_game_results()\n",
    "        self.team_standings = copy.deepcopy(self.team_standings_universal)\n",
    "        \n",
    "    def create_game_dicts(self):\n",
    "        games = []\n",
    "        for index, row in self.data.iterrows():\n",
    "            game = {}\n",
    "            if row['Winner'] == 'Home':\n",
    "                game[row['Home Team']] = 'Winner'\n",
    "                game[row['Away Team']] = 'Loser'\n",
    "            else:\n",
    "                game[row['Home Team']] = 'Loser'\n",
    "                game[row['Away Team']] = 'Winner'\n",
    "            games.append(game)\n",
    "        return games    \n",
    "        \n",
    "    def add_game_results(self):\n",
    "        for game in self.games:\n",
    "            for team in game:\n",
    "                self.team_standings_universal[team]['Games_Played'] += 1\n",
    "                if game[team] == 'Loser':\n",
    "                    self.team_standings_universal[team]['Max_Wins'] -= 1"
   ]
  },
  {
   "cell_type": "code",
   "execution_count": null,
   "metadata": {
    "collapsed": true,
    "hideCode": true,
    "hidePrompt": true
   },
   "outputs": [],
   "source": []
  }
 ],
 "metadata": {
  "hide_code_all_hidden": true,
  "kernelspec": {
   "display_name": "Python 3",
   "language": "python",
   "name": "python3"
  },
  "language_info": {
   "codemirror_mode": {
    "name": "ipython",
    "version": 3
   },
   "file_extension": ".py",
   "mimetype": "text/x-python",
   "name": "python",
   "nbconvert_exporter": "python",
   "pygments_lexer": "ipython3",
   "version": "3.6.1"
  },
  "varInspector": {
   "cols": {
    "lenName": 16,
    "lenType": 16,
    "lenVar": 40
   },
   "kernels_config": {
    "python": {
     "delete_cmd_postfix": "",
     "delete_cmd_prefix": "del ",
     "library": "var_list.py",
     "varRefreshCmd": "print(var_dic_list())"
    },
    "r": {
     "delete_cmd_postfix": ") ",
     "delete_cmd_prefix": "rm(",
     "library": "var_list.r",
     "varRefreshCmd": "cat(var_dic_list()) "
    }
   },
   "types_to_exclude": [
    "module",
    "function",
    "builtin_function_or_method",
    "instance",
    "_Feature"
   ],
   "window_display": false
  }
 },
 "nbformat": 4,
 "nbformat_minor": 2
}
