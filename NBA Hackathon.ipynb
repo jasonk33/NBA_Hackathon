{
 "cells": [
  {
   "cell_type": "code",
   "execution_count": 78,
   "metadata": {},
   "outputs": [
    {
     "name": "stdout",
     "output_type": "stream",
     "text": [
      "The autotime extension is already loaded. To reload it, use:\n",
      "  %reload_ext autotime\n",
      "time: 2.1 ms\n"
     ]
    }
   ],
   "source": [
    "from numpy.random import rand\n",
    "from numpy import mean, roots\n",
    "%load_ext autotime"
   ]
  },
  {
   "cell_type": "code",
   "execution_count": 90,
   "metadata": {},
   "outputs": [
    {
     "data": {
      "text/plain": [
       "0.058816864413928568"
      ]
     },
     "execution_count": 90,
     "metadata": {},
     "output_type": "execute_result"
    },
    {
     "name": "stdout",
     "output_type": "stream",
     "text": [
      "time: 6.45 ms\n"
     ]
    }
   ],
   "source": [
    "p = .2\n",
    "q = 1 - p\n",
    "n = 82\n",
    "r = 2\n",
    "'1 - x + q*(p**r)*x**(r+1) = 0 --> .032x**3 - x + 1 = 0 --> want the x root that is near 1 and not equal to 1/p'\n",
    "x_vals = roots([.032, 0, -1, 1])\n",
    "for val in x_vals:\n",
    "    if val != 1/p and abs(1-val) < .1:\n",
    "        x = val\n",
    "q = (1 - p*x)/((r + 1 - r*x)*q) * 1/(x**(n+1))\n",
    "q"
   ]
  },
  {
   "cell_type": "code",
   "execution_count": 91,
   "metadata": {},
   "outputs": [
    {
     "data": {
      "text/plain": [
       "0.058801800000000015"
      ]
     },
     "execution_count": 91,
     "metadata": {},
     "output_type": "execute_result"
    },
    {
     "name": "stdout",
     "output_type": "stream",
     "text": [
      "time: 2min 19s\n"
     ]
    }
   ],
   "source": [
    "two_losses = 0\n",
    "iters = 10000000\n",
    "for _ in range(iters):\n",
    "    lost_previous = False\n",
    "    for _ in range(82):\n",
    "        if rand() <= .2:\n",
    "            if lost_previous:\n",
    "                two_losses += 1\n",
    "                break\n",
    "            lost_previous = True\n",
    "        else:\n",
    "            lost_previous = False\n",
    "1 - two_losses/iters"
   ]
  }
 ],
 "metadata": {
  "kernelspec": {
   "display_name": "Python 3",
   "language": "python",
   "name": "python3"
  },
  "language_info": {
   "codemirror_mode": {
    "name": "ipython",
    "version": 3
   },
   "file_extension": ".py",
   "mimetype": "text/x-python",
   "name": "python",
   "nbconvert_exporter": "python",
   "pygments_lexer": "ipython3",
   "version": "3.6.1"
  },
  "varInspector": {
   "cols": {
    "lenName": 16,
    "lenType": 16,
    "lenVar": 40
   },
   "kernels_config": {
    "python": {
     "delete_cmd_postfix": "",
     "delete_cmd_prefix": "del ",
     "library": "var_list.py",
     "varRefreshCmd": "print(var_dic_list())"
    },
    "r": {
     "delete_cmd_postfix": ") ",
     "delete_cmd_prefix": "rm(",
     "library": "var_list.r",
     "varRefreshCmd": "cat(var_dic_list()) "
    }
   },
   "types_to_exclude": [
    "module",
    "function",
    "builtin_function_or_method",
    "instance",
    "_Feature"
   ],
   "window_display": false
  }
 },
 "nbformat": 4,
 "nbformat_minor": 2
}
