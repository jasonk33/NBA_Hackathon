{
 "cells": [
  {
   "cell_type": "code",
   "execution_count": 101,
   "metadata": {},
   "outputs": [
    {
     "name": "stdout",
     "output_type": "stream",
     "text": [
      "The autotime extension is already loaded. To reload it, use:\n",
      "  %reload_ext autotime\n",
      "time: 2.48 ms\n"
     ]
    }
   ],
   "source": [
    "from numpy.random import rand\n",
    "from numpy import mean, roots\n",
    "import numba\n",
    "import numpy as np\n",
    "from scipy.linalg import pascal\n",
    "%load_ext autotime"
   ]
  },
  {
   "cell_type": "code",
   "execution_count": 314,
   "metadata": {},
   "outputs": [
    {
     "name": "stdout",
     "output_type": "stream",
     "text": [
      "time: 4.81 ms\n"
     ]
    }
   ],
   "source": [
    "def probability_deterministic(win_prob, games=82):\n",
    "    \"\"\"\n",
    "    The goal is to find the probabilitiy of a team making it through all games without consecutive losses.\n",
    "    In order to succeed, a team will always be on either a 0 or 1 game losing streak.\n",
    "    The approach uses dynamic programming to take advantage of previous calculations.\n",
    "    To start, you calculate the probabilities of ending the second game with a 0 and 1 game losing streak.\n",
    "    From these calculations, you can use the following formula to iterate through any number of games:\n",
    "        format: prob(length of losing streak, number of games completed)\n",
    "        prob(0, n) = [prob(0, n-1) + prob(1, n-1)] * win_prob\n",
    "        prob(1, n) = prob(0, n-1) * (1-win_prob)\n",
    "    The final answer is the addition of prob(0, n) and prob(1, n).\n",
    "    \"\"\"\n",
    "    num_columns = games-1\n",
    "    matrix = np.zeros((2,num_columns))\n",
    "    matrix[0][0] = win_prob * win_prob + (1-win_prob) * win_prob\n",
    "    matrix[1][0] = win_prob * (1-win_prob)\n",
    "    for i in range(1, num_columns):\n",
    "        prob_0_win = matrix[0][i-1]\n",
    "        prob_1_win = matrix[1][i-1]\n",
    "        matrix[0][i] = win_prob * (prob_0_win + prob_1_win)\n",
    "        matrix[1][i] = (1-win_prob) * prob_0_win\n",
    "    return matrix[0][num_columns-1] + matrix[1][num_columns-1]"
   ]
  },
  {
   "cell_type": "code",
   "execution_count": 357,
   "metadata": {},
   "outputs": [
    {
     "name": "stdout",
     "output_type": "stream",
     "text": [
      "time: 12.5 ms\n"
     ]
    }
   ],
   "source": [
    "def probability_pascal(win_prob, games=82):\n",
    "    \"\"\"\n",
    "    This method takes advantage of pascal's triangle, finding all the possible ways to lose consecutive games.\n",
    "    Beginning 3 games into the season, create this table:\n",
    "        The rows represent how many games can be lost before the 2 game losing streak (no consecutive losses prior)\n",
    "        The columns represent the number of games played thus far\n",
    "        The cells are the number of occurances among each row/column combination\n",
    "    This table is a modified upper pascal triangle, with slight adjustments to the preceeding zeros in each row.\n",
    "    Since pascal's traingle can be easily computed, the table can be filled out for an arbitrary number of games.\n",
    "    Each cell represents a number of combinations for a single probability, calculted with this formula:\n",
    "        prob = win_prob**(2 + column value - row value)*(1 - win_prob)**(row value + 2)\n",
    "    Multiply each probability by the value of the cell and sum all cells.\n",
    "    Add this number to the probability of two consecutive losses after 3 games.\n",
    "    \"\"\"\n",
    "    num_rows = int(games/2)\n",
    "    num_columns = games-3\n",
    "    triangle = pascal(num_columns, kind='upper')\n",
    "    matrix = np.zeros((num_rows,num_columns))\n",
    "    for row in range(num_rows):\n",
    "        if row == 0:\n",
    "            matrix[row] = list(triangle[row])\n",
    "        elif row == 1:\n",
    "            row_list = list(triangle[row])\n",
    "            del row_list[0]\n",
    "            row_list.append(row_list[-1]+1)\n",
    "            matrix[row] = row_list\n",
    "        else:\n",
    "            row_list = list(triangle[row])\n",
    "            for _ in range(row-2):\n",
    "                row_list.insert(0,0)\n",
    "                del row_list[-1]\n",
    "            matrix[row] = row_list\n",
    "    probs = (1-win_prob)**2 + win_prob*(1-win_prob)**2\n",
    "    for row in range(num_rows):\n",
    "        for column in range(num_columns):\n",
    "            combos = matrix[row][column]\n",
    "            probs += combos*(win_prob)**(2+column-row)*(1-win_prob)**(row+2)\n",
    "    return 1-probs"
   ]
  },
  {
   "cell_type": "code",
   "execution_count": 367,
   "metadata": {},
   "outputs": [
    {
     "name": "stdout",
     "output_type": "stream",
     "text": [
      "time: 3.22 ms\n"
     ]
    }
   ],
   "source": [
    "def probability_approximation(win_prob, games=82, streak=2):\n",
    "    \"\"\"\n",
    "    This method uses distributions to derive the probability of interest.\n",
    "    After deriving the probability generating function, the distribution is slightly skewed.\n",
    "    Partial fraction expansion is then used to approximate the tail of the distribution.\n",
    "    This leads to the formula:\n",
    "        p: win probability\n",
    "        q: loss probability\n",
    "        r: length of losing streak\n",
    "        n: number of games\n",
    "        prob ~ (1 - p*x)/((r + 1 - r*x)*q) * 1/(x**(n+1))\n",
    "        where x is the positive root, not equal to 1/p in the following equation:\n",
    "            1 - x + q*(p**r)*x**(r+1) = 0\n",
    "    \"\"\"\n",
    "    loss_prob = 1 - win_prob\n",
    "    x_vals = roots(np.append(np.append([win_prob*loss_prob**streak], np.repeat(0,streak-1)), [-1, 1]))\n",
    "    for val in x_vals:\n",
    "        if val != 1/loss_prob and val > 0:\n",
    "            x = val\n",
    "    return (1 - loss_prob*x)/((streak + 1 - streak*x)*win_prob) * 1/(x**(games+1))"
   ]
  },
  {
   "cell_type": "code",
   "execution_count": 368,
   "metadata": {},
   "outputs": [
    {
     "name": "stdout",
     "output_type": "stream",
     "text": [
      "time: 5.41 ms\n"
     ]
    }
   ],
   "source": [
    "@numba.jit(nopython=True, cache=False, nogil=True)\n",
    "def probability_simulation(win_prob, simulations=1000000, games=82):\n",
    "    \"\"\"\n",
    "    This method uses repeated simulation to approximate the probability of interest\n",
    "    For each simulated game, a random number from 0 to 1 is generated.\n",
    "    If the number is less than the losing probability, the game is deemed a loss.\n",
    "    This process is repeated for all 82 games or unless there are two consecutive losses.\n",
    "    At the end of the simulation, it is recorded whether or not there was a string of consecutive losses.\n",
    "    This is then repeated for n seasons and the average number of seasons with consecutive losses is calculated.\n",
    "    \"\"\"\n",
    "    two_losses = 0\n",
    "    for _ in range(simulations):\n",
    "        lost_previous = False\n",
    "        for _ in range(games):\n",
    "            if rand() <= 1-win_prob:\n",
    "                if lost_previous:\n",
    "                    two_losses += 1\n",
    "                    break\n",
    "                lost_previous = True\n",
    "            else:\n",
    "                lost_previous = False\n",
    "    return 1 - two_losses/simulations"
   ]
  },
  {
   "cell_type": "code",
   "execution_count": 369,
   "metadata": {},
   "outputs": [
    {
     "name": "stdout",
     "output_type": "stream",
     "text": [
      "time: 2.06 ms\n"
     ]
    }
   ],
   "source": [
    "def win_prob_to_prevent_losses(win_prob=.8, increment=.0001, outcome_prob=.5, method=probability_deterministic):\n",
    "    prob = method(win_prob)\n",
    "    while prob < outcome_prob:\n",
    "        win_prob += increment\n",
    "        prob = method(win_prob)\n",
    "    return win_prob"
   ]
  },
  {
   "cell_type": "code",
   "execution_count": 319,
   "metadata": {},
   "outputs": [
    {
     "data": {
      "text/plain": [
       "0.058816864413926168"
      ]
     },
     "execution_count": 319,
     "metadata": {},
     "output_type": "execute_result"
    },
    {
     "name": "stdout",
     "output_type": "stream",
     "text": [
      "time: 2.4 ms\n"
     ]
    }
   ],
   "source": [
    "probability_deterministic(.8)"
   ]
  },
  {
   "cell_type": "code",
   "execution_count": 358,
   "metadata": {},
   "outputs": [
    {
     "data": {
      "text/plain": [
       "0.058816864413927084"
      ]
     },
     "execution_count": 358,
     "metadata": {},
     "output_type": "execute_result"
    },
    {
     "name": "stdout",
     "output_type": "stream",
     "text": [
      "time: 9.7 ms\n"
     ]
    }
   ],
   "source": [
    "probability_pascal(.8)"
   ]
  },
  {
   "cell_type": "code",
   "execution_count": 365,
   "metadata": {},
   "outputs": [
    {
     "data": {
      "text/plain": [
       "0.058816864413927548"
      ]
     },
     "execution_count": 365,
     "metadata": {},
     "output_type": "execute_result"
    },
    {
     "name": "stdout",
     "output_type": "stream",
     "text": [
      "time: 2.69 ms\n"
     ]
    }
   ],
   "source": [
    "probability_approximation(.8)"
   ]
  },
  {
   "cell_type": "code",
   "execution_count": 332,
   "metadata": {},
   "outputs": [
    {
     "data": {
      "text/plain": [
       "0.058826000000000045"
      ]
     },
     "execution_count": 332,
     "metadata": {},
     "output_type": "execute_result"
    },
    {
     "name": "stdout",
     "output_type": "stream",
     "text": [
      "time: 556 ms\n"
     ]
    }
   ],
   "source": [
    "probability_simulation(.8)"
   ]
  },
  {
   "cell_type": "code",
   "execution_count": 351,
   "metadata": {},
   "outputs": [
    {
     "data": {
      "text/plain": [
       "0.9037999999999886"
      ]
     },
     "execution_count": 351,
     "metadata": {},
     "output_type": "execute_result"
    },
    {
     "name": "stdout",
     "output_type": "stream",
     "text": [
      "time: 117 ms\n"
     ]
    }
   ],
   "source": [
    "win_prob_to_prevent_losses(method=probability_deterministic, increment=.0001)"
   ]
  },
  {
   "cell_type": "code",
   "execution_count": 366,
   "metadata": {},
   "outputs": [
    {
     "data": {
      "text/plain": [
       "0.9037999999999886"
      ]
     },
     "execution_count": 366,
     "metadata": {},
     "output_type": "execute_result"
    },
    {
     "name": "stdout",
     "output_type": "stream",
     "text": [
      "time: 123 ms\n"
     ]
    }
   ],
   "source": [
    "win_prob_to_prevent_losses(method=probability_approximation, increment=.0001)"
   ]
  },
  {
   "cell_type": "code",
   "execution_count": 360,
   "metadata": {},
   "outputs": [
    {
     "data": {
      "text/plain": [
       "0.9037999999999886"
      ]
     },
     "execution_count": 360,
     "metadata": {},
     "output_type": "execute_result"
    },
    {
     "name": "stdout",
     "output_type": "stream",
     "text": [
      "time: 6.85 s\n"
     ]
    }
   ],
   "source": [
    "win_prob_to_prevent_losses(method=probability_pascal, increment=.0001)"
   ]
  },
  {
   "cell_type": "code",
   "execution_count": null,
   "metadata": {
    "collapsed": true
   },
   "outputs": [],
   "source": []
  }
 ],
 "metadata": {
  "kernelspec": {
   "display_name": "Python 3",
   "language": "python",
   "name": "python3"
  },
  "language_info": {
   "codemirror_mode": {
    "name": "ipython",
    "version": 3
   },
   "file_extension": ".py",
   "mimetype": "text/x-python",
   "name": "python",
   "nbconvert_exporter": "python",
   "pygments_lexer": "ipython3",
   "version": "3.6.1"
  },
  "varInspector": {
   "cols": {
    "lenName": 16,
    "lenType": 16,
    "lenVar": 40
   },
   "kernels_config": {
    "python": {
     "delete_cmd_postfix": "",
     "delete_cmd_prefix": "del ",
     "library": "var_list.py",
     "varRefreshCmd": "print(var_dic_list())"
    },
    "r": {
     "delete_cmd_postfix": ") ",
     "delete_cmd_prefix": "rm(",
     "library": "var_list.r",
     "varRefreshCmd": "cat(var_dic_list()) "
    }
   },
   "types_to_exclude": [
    "module",
    "function",
    "builtin_function_or_method",
    "instance",
    "_Feature"
   ],
   "window_display": false
  }
 },
 "nbformat": 4,
 "nbformat_minor": 2
}
