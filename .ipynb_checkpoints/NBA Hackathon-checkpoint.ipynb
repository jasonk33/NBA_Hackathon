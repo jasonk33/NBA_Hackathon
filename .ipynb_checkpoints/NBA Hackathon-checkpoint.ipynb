{
 "cells": [
  {
   "cell_type": "code",
   "execution_count": 3,
   "metadata": {},
   "outputs": [],
   "source": [
    "from numpy.random import rand\n",
    "from numpy import mean, roots\n",
    "import numpy as np\n",
    "%load_ext autotime"
   ]
  },
  {
   "cell_type": "code",
   "execution_count": 15,
   "metadata": {},
   "outputs": [
    {
     "name": "stdout",
     "output_type": "stream",
     "text": [
      "time: 4.44 ms\n"
     ]
    }
   ],
   "source": [
    "def prob_not_two_straight_losses(win_prob, games=82, streak=2):\n",
    "    '1 - x + q*(p**r)*x**(r+1) = 0 --> want the x root that is near 1 and not equal to 1/p'\n",
    "    loss_prob = 1 - win_prob\n",
    "    x_vals = roots(np.append(np.append([win_prob*loss_prob**streak], np.repeat(0,streak-1)), [-1, 1]))\n",
    "    for val in x_vals:\n",
    "        if val != 1/loss_prob and abs(1-val) < .1:\n",
    "            x = val\n",
    "    return (1 - loss_prob*x)/((streak + 1 - streak*x)*win_prob) * 1/(x**(games+1))"
   ]
  },
  {
   "cell_type": "code",
   "execution_count": 21,
   "metadata": {},
   "outputs": [
    {
     "name": "stdout",
     "output_type": "stream",
     "text": [
      "time: 5.86 ms\n"
     ]
    }
   ],
   "source": [
    "def simulate_seasons(win_prob, seasons, games=82):\n",
    "    two_losses = 0\n",
    "    for _ in range(seasons):\n",
    "        lost_previous = False\n",
    "        for _ in range(games):\n",
    "            if rand() <= 1-win_prob:\n",
    "                if lost_previous:\n",
    "                    two_losses += 1\n",
    "                    break\n",
    "                lost_previous = True\n",
    "            else:\n",
    "                lost_previous = False\n",
    "    return 1 - two_losses/seasons"
   ]
  },
  {
   "cell_type": "code",
   "execution_count": 16,
   "metadata": {},
   "outputs": [
    {
     "data": {
      "text/plain": [
       "0.058816864413927548"
      ]
     },
     "execution_count": 16,
     "metadata": {},
     "output_type": "execute_result"
    },
    {
     "name": "stdout",
     "output_type": "stream",
     "text": [
      "time: 2.49 ms\n"
     ]
    }
   ],
   "source": [
    "prob_not_two_straight_losses(.8)"
   ]
  },
  {
   "cell_type": "code",
   "execution_count": 24,
   "metadata": {},
   "outputs": [
    {
     "data": {
      "text/plain": [
       "0.058867"
      ]
     },
     "execution_count": 24,
     "metadata": {},
     "output_type": "execute_result"
    },
    {
     "name": "stdout",
     "output_type": "stream",
     "text": [
      "time: 2min 33s\n"
     ]
    }
   ],
   "source": [
    "simulate_seasons(.8, 10000000)"
   ]
  },
  {
   "cell_type": "code",
   "execution_count": 18,
   "metadata": {},
   "outputs": [
    {
     "data": {
      "text/plain": [
       "0.9037999999999886"
      ]
     },
     "execution_count": 18,
     "metadata": {},
     "output_type": "execute_result"
    },
    {
     "name": "stdout",
     "output_type": "stream",
     "text": [
      "time: 134 ms\n"
     ]
    }
   ],
   "source": [
    "win_prob = .8\n",
    "prob = prob_not_two_straight_losses(win_prob)\n",
    "while prob < .5:\n",
    "    win_prob += .0001\n",
    "    prob = prob_not_two_straight_losses(win_prob)\n",
    "win_prob"
   ]
  },
  {
   "cell_type": "code",
   "execution_count": 29,
   "metadata": {},
   "outputs": [
    {
     "data": {
      "text/plain": [
       "0.500401"
      ]
     },
     "execution_count": 29,
     "metadata": {},
     "output_type": "execute_result"
    },
    {
     "name": "stdout",
     "output_type": "stream",
     "text": [
      "time: 30.7 s\n"
     ]
    }
   ],
   "source": [
    "simulate_seasons(0.9038, 1000000)"
   ]
  },
  {
   "cell_type": "code",
   "execution_count": null,
   "metadata": {
    "collapsed": true
   },
   "outputs": [],
   "source": []
  }
 ],
 "metadata": {
  "kernelspec": {
   "display_name": "Python 3",
   "language": "python",
   "name": "python3"
  },
  "language_info": {
   "codemirror_mode": {
    "name": "ipython",
    "version": 3
   },
   "file_extension": ".py",
   "mimetype": "text/x-python",
   "name": "python",
   "nbconvert_exporter": "python",
   "pygments_lexer": "ipython3",
   "version": "3.6.1"
  },
  "varInspector": {
   "cols": {
    "lenName": 16,
    "lenType": 16,
    "lenVar": 40
   },
   "kernels_config": {
    "python": {
     "delete_cmd_postfix": "",
     "delete_cmd_prefix": "del ",
     "library": "var_list.py",
     "varRefreshCmd": "print(var_dic_list())"
    },
    "r": {
     "delete_cmd_postfix": ") ",
     "delete_cmd_prefix": "rm(",
     "library": "var_list.r",
     "varRefreshCmd": "cat(var_dic_list()) "
    }
   },
   "types_to_exclude": [
    "module",
    "function",
    "builtin_function_or_method",
    "instance",
    "_Feature"
   ],
   "window_display": false
  }
 },
 "nbformat": 4,
 "nbformat_minor": 2
}
