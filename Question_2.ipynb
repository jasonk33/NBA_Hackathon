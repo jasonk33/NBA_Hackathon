{
 "cells": [
  {
   "cell_type": "code",
   "execution_count": 2,
   "metadata": {},
   "outputs": [],
   "source": [
    "import pandas as pd\n",
    "import copy\n",
    "import numba\n",
    "from itertools import permutations\n",
    "%load_ext autotime"
   ]
  },
  {
   "cell_type": "code",
   "execution_count": 3,
   "metadata": {},
   "outputs": [
    {
     "name": "stdout",
     "output_type": "stream",
     "text": [
      "time: 269 ms\n"
     ]
    }
   ],
   "source": [
    "game_data = pd.read_excel('/Users/jason.katz/Downloads/Analytics_Attachment.xlsx', \"2016_17_NBA_Scores\")\n",
    "team_data = pd.read_excel('/Users/jason.katz/Downloads/Analytics_Attachment.xlsx', \"Division_Info\")"
   ]
  },
  {
   "cell_type": "code",
   "execution_count": 4,
   "metadata": {},
   "outputs": [
    {
     "name": "stdout",
     "output_type": "stream",
     "text": [
      "time: 3.74 ms\n"
     ]
    }
   ],
   "source": [
    "def initialize_team_standings(team_data):\n",
    "    \"\"\"\n",
    "    Provides access to a team's:\n",
    "        divison\n",
    "        conference\n",
    "        head to head record versus every other opponent\n",
    "        number of games left to be played\n",
    "        maximum number of wins attainable\n",
    "        games won\n",
    "        and maximum number of wins attainable vs conference opponents\n",
    "    \"\"\"\n",
    "    teams = {}\n",
    "    for _, row in team_data.iterrows():\n",
    "        teams[row['Team_Name']] = {'Division': row['Division_id'], 'Conference': row['Conference_id'], \n",
    "                                   'Games_Left': 82, 'Max_Wins': 82, 'Games_Won': 0, 'Head2Head': {}, \n",
    "                                   'Conference_Max_Wins': 52}\n",
    "        for _, row_inside in team_data.iterrows():\n",
    "            teams[row['Team_Name']]['Head2Head'][row_inside['Team_Name']] = 0\n",
    "    return teams"
   ]
  },
  {
   "cell_type": "code",
   "execution_count": 5,
   "metadata": {},
   "outputs": [
    {
     "name": "stdout",
     "output_type": "stream",
     "text": [
      "time: 3.6 ms\n"
     ]
    }
   ],
   "source": [
    "def get_league_data(team_data):\n",
    "    \"\"\"\n",
    "    Provides access to each conference's:\n",
    "        teams\n",
    "        divisions\n",
    "        teams within each division\n",
    "    \"\"\"\n",
    "    east_divisions = set(team_data[team_data['Conference_id'] == 'East']['Division_id'])\n",
    "    west_divisions = set(team_data[team_data['Conference_id'] == 'West']['Division_id'])\n",
    "    east_teams = set(team_data[team_data['Conference_id'] == 'East']['Team_Name'])\n",
    "    west_teams = set(team_data[team_data['Conference_id'] == 'West']['Team_Name'])\n",
    "    return {'East': {'Divisions': east_divisions, 'Teams': east_teams}, \n",
    "            'West': {'Divisions': west_divisions, 'Teams': west_teams}}"
   ]
  },
  {
   "cell_type": "code",
   "execution_count": 6,
   "metadata": {},
   "outputs": [
    {
     "name": "stdout",
     "output_type": "stream",
     "text": [
      "time: 3.28 ms\n"
     ]
    }
   ],
   "source": [
    "def initialize_league_standings(team_data):\n",
    "    \"\"\"\n",
    "    Provides access to the maximum number of wins among all teams within:\n",
    "        a conference\n",
    "        each division in a conference\n",
    "    \"\"\"\n",
    "    league_standings = {'East': {'Conference': {}, 'Atlantic': {}, 'Central': {}, 'Southeast': {}}, \n",
    "                    'West': {'Conference': {}, 'Northwest': {}, 'Southwest': {}, 'Pacific': {}}}\n",
    "    for index, row in team_data.iterrows():\n",
    "        league_standings[row['Conference_id']]['Conference'][row['Team_Name']] = 82\n",
    "        league_standings[row['Conference_id']][row['Division_id']][row['Team_Name']] = 82\n",
    "    return league_standings"
   ]
  },
  {
   "cell_type": "code",
   "execution_count": 244,
   "metadata": {},
   "outputs": [
    {
     "name": "stdout",
     "output_type": "stream",
     "text": [
      "time: 245 ms\n"
     ]
    }
   ],
   "source": [
    "class DayOfGames(object):\n",
    "    def __init__(self, data, team_standings, league_standings):\n",
    "        self.data = data\n",
    "        self.date = self.data.iloc[0,0]\n",
    "        self.games = self.create_game_dicts()\n",
    "        self.games_simulation = copy.deepcopy(self.games)\n",
    "        self.team_standings_simulation = copy.deepcopy(DayOfGames.team_standings_class)\n",
    "        self.league_standings_simulation = copy.deepcopy(DayOfGames.league_standings_class)\n",
    "        self.add_game_results()\n",
    "        self.team_standings = copy.deepcopy(DayOfGames.team_standings_class)\n",
    "        self.league_standings = copy.deepcopy(DayOfGames.league_standings_class)\n",
    "        self.playoff_teams = self.get_playoff_teams()\n",
    "        \n",
    "    def create_game_dicts(self):\n",
    "        games = []\n",
    "        for index, row in self.data.iterrows():\n",
    "            game = {}\n",
    "            if row['Winner'] == 'Home':\n",
    "                game[row['Home Team']] = 'Winner'\n",
    "                game[row['Away Team']] = 'Loser'\n",
    "            else:\n",
    "                game[row['Home Team']] = 'Loser'\n",
    "                game[row['Away Team']] = 'Winner'\n",
    "            games.append(game)\n",
    "        return games    \n",
    "        \n",
    "    def add_game_results(self, simulation=False):\n",
    "        if simulation:\n",
    "            games = self.games_simulation\n",
    "            team_standings = DayOfGames.team_standings_simulation_class\n",
    "            league_standings = DayOfGames.league_standings_simulation_class\n",
    "        else:\n",
    "            games = self.games\n",
    "            team_standings = DayOfGames.team_standings_class\n",
    "            league_standings = DayOfGames.league_standings_class\n",
    "        for game in games:\n",
    "            teams = list(game.keys())\n",
    "            for idx, team in enumerate(teams):\n",
    "                team_standings[team]['Games_Left'] -= 1\n",
    "                if game[team] == 'Loser':\n",
    "                    team_standings[team]['Max_Wins'] -= 1\n",
    "                    team_standings[team]['Head2Head'][teams[idx-1]] -= 1\n",
    "                    if team_standings[team]['Conference'] == team_standings[teams[idx-1]]['Conference']:\n",
    "                        team_standings[team]['Conference_Max_Wins'] -= 1\n",
    "                else:\n",
    "                    team_standings[team]['Games_Won'] += 1\n",
    "                    team_standings[team]['Head2Head'][teams[idx-1]] += 1\n",
    "        for team, info in team_standings.items():\n",
    "            league_standings[info['Conference']]['Conference'][team] = info['Max_Wins']\n",
    "            league_standings[info['Conference']][info['Division']][team] = info['Max_Wins']\n",
    "            \n",
    "    def simulate_day(self, team_name, win, other_teams=[]):\n",
    "        for game in self.games_simulation:\n",
    "            if team_name in game and not [i for i in other_teams if i in game]:\n",
    "                for team in game:\n",
    "                    if team == team_name:\n",
    "                        if win:\n",
    "                            game[team] = 'Winner'\n",
    "                        else:\n",
    "                            game[team] = 'Loser'\n",
    "                    else:\n",
    "                        if win:\n",
    "                            game[team] = 'Loser'\n",
    "                        else:\n",
    "                            game[team] = 'Winner'        \n",
    "                      \n",
    "    def get_division_leaders(self, conference, simulation=True):\n",
    "        division_leaders = []\n",
    "        for division in self.league_data[conference]['Divisions']:\n",
    "            max_wins = 0\n",
    "            if simulation:\n",
    "                league_standings = DayOfGames.league_standings_class\n",
    "                team_standings = DayOfGames.team_standings_class\n",
    "            else:\n",
    "                league_standings = self.league_standings\n",
    "                team_standings = self.team_standings\n",
    "            for team, wins in league_standings[conference][division].items():\n",
    "                if wins > max_wins:\n",
    "                    leader = team\n",
    "                    max_wins = wins\n",
    "                elif wins == max_wins:\n",
    "                    if team_standings[team]['Head2Head'][leader] > 0:\n",
    "                        leader = team\n",
    "            division_leaders.append(leader)\n",
    "        return division_leaders\n",
    "    \n",
    "    def get_playoff_teams(self, simulation=False, final_day=False):\n",
    "        if simulation:\n",
    "            league_standings = DayOfGames.league_standings_simulation_class\n",
    "            team_standings = DayOfGames.team_standings_simulation_class\n",
    "        else:\n",
    "            league_standings = self.league_standings\n",
    "            team_standings = self.team_standings\n",
    "        playoff_teams_all = {}\n",
    "        for conference in ['East', 'West']:\n",
    "            division_leaders = self.get_division_leaders(conference, simulation)\n",
    "            for team, max_wins in league_standings[conference]['Conference'].items():\n",
    "                standings = sorted(league_standings[conference]['Conference'], \n",
    "                                   key=league_standings[conference]['Conference'].get, reverse=True)\n",
    "            playoff_teams = [x for x in standings if x not in division_leaders][0:5] + division_leaders\n",
    "            seed_8 = standings[7]\n",
    "            seed_9 = standings[8]\n",
    "            seed_8_info = team_standings[seed_8]\n",
    "            seed_9_info = team_standings[seed_9]\n",
    "            if seed_8_info['Max_Wins'] == seed_9_info['Max_Wins']:\n",
    "                tie_break = seed_8_info['Head2Head'][seed_9]\n",
    "                if tie_break < 0:\n",
    "                    playoff_teams.remove(seed_8)\n",
    "                    playoff_teams.append(seed_9)\n",
    "                else:\n",
    "                    if seed_8_info['Conference_Max_Wins'] < seed_9_info['Conference_Max_Wins']:\n",
    "                        playoff_teams.remove(seed_8)\n",
    "                        playoff_teams.append(seed_9)\n",
    "            playoff_teams_all[conference] = playoff_teams\n",
    "        if final_day:\n",
    "            DayOfGames.final_playoff_teams = playoff_teams_all\n",
    "        else:\n",
    "            return playoff_teams_all\n",
    "    \n",
    "    @staticmethod\n",
    "    def initialize_class_variables():\n",
    "        DayOfGames.team_standings_class = initialize_team_standings(team_data)\n",
    "        DayOfGames.team_standings_simulation_class = initialize_team_standings(team_data)\n",
    "        DayOfGames.league_standings_class = initialize_league_standings(team_data)\n",
    "        DayOfGames.league_standings_simulation_class = initialize_league_standings(team_data)\n",
    "        DayOfGames.league_data = get_league_data(team_data)\n",
    "        DayOfGames.days = []\n",
    "        \n",
    "    @staticmethod\n",
    "    def calculate_first_day_to_check():\n",
    "        elimination_days = {'East': {}, 'West': {}}\n",
    "        total_days = len(DayOfGames.days)\n",
    "        for conference in ['East', 'West']:\n",
    "            for team in DayOfGames.league_data[conference]['Teams']:\n",
    "                if team not in DayOfGames.final_playoff_teams[conference]:\n",
    "                    day_num = total_days\n",
    "                    eliminated = True\n",
    "                    while eliminated:\n",
    "                        day_num -= 1\n",
    "                        max_wins = DayOfGames.days[day_num].team_standings[team]['Max_Wins']\n",
    "                        can_overtake = False\n",
    "                        for other_team in DayOfGames.days[day_num].playoff_teams[conference]:\n",
    "                            if max_wins > DayOfGames.days[day_num].team_standings[other_team]['Games_Won']:\n",
    "                                eliminated = False\n",
    "                    elimination_days[conference][team] = day_num\n",
    "        DayOfGames.first_potential_not_eliminated_day = elimination_days\n",
    "        \n",
    "    def reset_game_simulation(self):\n",
    "        self.games_simulation = copy.deepcopy(self.games)"
   ]
  },
  {
   "cell_type": "code",
   "execution_count": 236,
   "metadata": {},
   "outputs": [
    {
     "name": "stdout",
     "output_type": "stream",
     "text": [
      "time: 7.98 ms\n"
     ]
    }
   ],
   "source": [
    "def munge_data(team_data, game_data):\n",
    "    league_data = get_league_data(team_data)\n",
    "    team_standings = initialize_team_standings(team_data)\n",
    "    league_standings = initialize_league_standings(team_data)\n",
    "    first_game_date = game_data.iloc[0,0]\n",
    "    first_game_index = 0\n",
    "    DayOfGames.initialize_class_variables()\n",
    "    for index, row in game_data.iloc[0:].iterrows():\n",
    "        if row['Date'] != first_game_date:\n",
    "            DayOfGames.days.append(DayOfGames(game_data.iloc[first_game_index:index], team_standings, league_standings))\n",
    "            first_game_index = index\n",
    "            first_game_date = row['Date']\n",
    "    DayOfGames.days.append(DayOfGames(game_data.iloc[first_game_index:index+1], team_standings, league_standings,))\n",
    "    for idx, day in enumerate(DayOfGames.days):\n",
    "        setattr(day, 'day', idx)\n",
    "    DayOfGames.days[-1].get_playoff_teams(final_day=True)\n",
    "    DayOfGames.calculate_first_day_to_check()"
   ]
  },
  {
   "cell_type": "code",
   "execution_count": 238,
   "metadata": {},
   "outputs": [
    {
     "name": "stdout",
     "output_type": "stream",
     "text": [
      "time: 7.09 ms\n"
     ]
    }
   ],
   "source": [
    "def run_simulation(day_num, team, win, simulated_teams=[], total_days=162, team_to_check=None):\n",
    "    \"\"\"\n",
    "    Simulate a team winning or losing all games from a specified day till the end of the season\n",
    "\n",
    "    Parameters\n",
    "    ----------\n",
    "    day_num : Integer\n",
    "        First day to simulate a team's games\n",
    "    team : String\n",
    "        Name of the team to simulate\n",
    "    win : Boolean\n",
    "        True for the team winnig all games, False for losing\n",
    "    simulate_teams : list[String]\n",
    "        A list of teams which have already had their games simulated (in order to prevent overwriting)\n",
    "    total_days : Integer\n",
    "        Number of different days with at least one game\n",
    "    \"\"\"\n",
    "    conference = DayOfGames.team_standings_class[team]['Conference']\n",
    "    DayOfGames.team_standings_simulation_class = copy.deepcopy(DayOfGames.days[day_num].team_standings_simulation)\n",
    "    DayOfGames.league_standings_simulation_class = copy.deepcopy(DayOfGames.days[day_num].league_standings_simulation)\n",
    "    for day in range(day_num, total_days):\n",
    "        DayOfGames.days[day].simulate_day(team, win, simulated_teams)\n",
    "        DayOfGames.days[day].add_game_results(simulation=True)\n",
    "    simulated_teams.append(team)\n",
    "    if team_to_check is not None:\n",
    "        return team_to_check in DayOfGames.days[-1].get_playoff_teams(simulation=True)[conference]\n",
    "    else:\n",
    "        return team in DayOfGames.days[-1].get_playoff_teams(simulation=True)[conference]"
   ]
  },
  {
   "cell_type": "code",
   "execution_count": 239,
   "metadata": {},
   "outputs": [
    {
     "name": "stdout",
     "output_type": "stream",
     "text": [
      "time: 5.4 ms\n"
     ]
    }
   ],
   "source": [
    "def simulate_teams_to_win(team, day_num, conference, simulated_teams):\n",
    "    \"\"\"\n",
    "    Selects specific teams in a conference and simulates them winnings all their remaining games\n",
    "    Teams who already have more wins than the maximum number of wins for the team in question\n",
    "    Teams with less maximum wins than the team in question\n",
    "    \n",
    "    Parameters\n",
    "    ----------\n",
    "    day_num : Integer\n",
    "        First day to simulate a team's games\n",
    "    conference : String\n",
    "        The conference name of the team in question\n",
    "    max_wins : Integer\n",
    "        The maximum number of wins the team in question can still attain\n",
    "    simulate_teams : list[String]\n",
    "        A list of teams which have already had their games simulated (in order to prevent overwriting)\n",
    "    \"\"\"\n",
    "    max_wins = DayOfGames.days[day_num].team_standings[team]['Max_Wins']\n",
    "    for other_team in DayOfGames.league_data[conference]['Teams']:\n",
    "        more_wins_than_max = max_wins < DayOfGames.days[day_num].team_standings[other_team]['Games_Won']\n",
    "        less_max_wins = max_wins > DayOfGames.days[day_num].team_standings[other_team]['Max_Wins']\n",
    "        if other_team not in simulated_teams and (more_wins_than_max or less_max_wins):\n",
    "            if run_simulation(day_num, other_team, True, simulated_teams, team_to_check=team):\n",
    "                return True\n",
    "    return False"
   ]
  },
  {
   "cell_type": "code",
   "execution_count": 240,
   "metadata": {},
   "outputs": [
    {
     "name": "stdout",
     "output_type": "stream",
     "text": [
      "time: 8.11 ms\n"
     ]
    }
   ],
   "source": [
    "def simulate_teams_to_lose(team, day_num, conference, simulated_teams):\n",
    "    \"\"\"\n",
    "    Selects specific teams in a conference and simulates them losing all their remaining games\n",
    "    Teams who are competing for the final playoff spot(s)\n",
    "    Iterates over all possible orders for simulating a team losing all their games\n",
    "    Checks if any of the different simulations lead to the team in question making the playoffs\n",
    "    \n",
    "    Parameters\n",
    "    ----------\n",
    "    team : String\n",
    "        The team in question\n",
    "    day_num : Integer\n",
    "        First day to simulate a team's games\n",
    "    conference : String\n",
    "        The conference name of the team in question\n",
    "    max_wins : Integer\n",
    "        The maximum number of wins the team in question can still attain\n",
    "    simulate_teams : list[String]\n",
    "        A list of teams which have already had their games simulated (in order to prevent overwriting)\n",
    "    \n",
    "    Returns\n",
    "    -------\n",
    "    ___ : Boolean\n",
    "        True is the team has a path to the playoffs, False if no path is found, meaning they are eliminated\n",
    "    \"\"\"\n",
    "    max_wins = DayOfGames.days[day_num].team_standings[team]['Max_Wins']\n",
    "    simulated_teams_copy = copy.deepcopy(simulated_teams)\n",
    "    teams_left = copy.deepcopy(DayOfGames.league_data[conference]['Teams'])\n",
    "    for simulated_team in simulated_teams_copy:\n",
    "        teams_left.remove(simulated_team)\n",
    "    possible_sims = list(permutations(teams_left))\n",
    "    for sim in possible_sims:\n",
    "        for other_team in sim:\n",
    "            if run_simulation(day_num, other_team, False, simulated_teams, team_to_check=team):\n",
    "                return True\n",
    "            simulated_teams = copy.deepcopy(simulated_teams_copy)\n",
    "    return False"
   ]
  },
  {
   "cell_type": "code",
   "execution_count": 241,
   "metadata": {},
   "outputs": [
    {
     "name": "stdout",
     "output_type": "stream",
     "text": [
      "time: 9.61 ms\n"
     ]
    }
   ],
   "source": [
    "def get_elimination_days():\n",
    "    total_days = len(DayOfGames.days)\n",
    "    elimination_day = {}\n",
    "    for conference in ['East', 'West']:\n",
    "        for team in DayOfGames.first_potential_not_eliminated_day[conference]:\n",
    "            if team not in DayOfGames.final_playoff_teams[conference]:\n",
    "                day_num = DayOfGames.first_potential_not_eliminated_day[conference][team]+1\n",
    "                while day_num>=0:\n",
    "                    day_num -= 1\n",
    "                    for games in DayOfGames.days:\n",
    "                        games.reset_game_simulation()\n",
    "                    simulated_teams = []\n",
    "                    if run_simulation(day_num, team, True, simulated_teams):\n",
    "                        break\n",
    "                    else:\n",
    "                        if simulate_teams_to_win(team, day_num, conference, simulated_teams):\n",
    "                            break\n",
    "                        else:\n",
    "                            if simulate_teams_to_lose(team, day_num, conference, simulated_teams):\n",
    "                                break\n",
    "                if day_num < 0:\n",
    "                    print('Something went wrong, team was always found to be eliminated')\n",
    "                elimination_day[team] = DayOfGames.days[day_num+1].date\n",
    "    return elimination_day"
   ]
  },
  {
   "cell_type": "code",
   "execution_count": 245,
   "metadata": {},
   "outputs": [
    {
     "name": "stdout",
     "output_type": "stream",
     "text": [
      "time: 1.17 s\n"
     ]
    }
   ],
   "source": [
    "munge_data(team_data, game_data)"
   ]
  },
  {
   "cell_type": "code",
   "execution_count": 246,
   "metadata": {},
   "outputs": [
    {
     "data": {
      "text/plain": [
       "True"
      ]
     },
     "execution_count": 246,
     "metadata": {},
     "output_type": "execute_result"
    },
    {
     "name": "stdout",
     "output_type": "stream",
     "text": [
      "time: 4.24 s\n"
     ]
    }
   ],
   "source": [
    "new = get_elimination_days() \n",
    "new == compare"
   ]
  },
  {
   "cell_type": "code",
   "execution_count": 1232,
   "metadata": {},
   "outputs": [
    {
     "data": {
      "text/plain": [
       "{'Brooklyn Nets': Timestamp('2017-03-06 00:00:00'),\n",
       " 'Charlotte Hornets': Timestamp('2017-04-07 00:00:00'),\n",
       " 'Dallas Mavericks': Timestamp('2017-04-01 00:00:00'),\n",
       " 'Denver Nuggets': Timestamp('2017-04-09 00:00:00'),\n",
       " 'Detroit Pistons': Timestamp('2017-04-07 00:00:00'),\n",
       " 'Los Angeles Lakers': Timestamp('2017-03-17 00:00:00'),\n",
       " 'Miami Heat': Timestamp('2017-04-12 00:00:00'),\n",
       " 'Minnesota Timberwolves': Timestamp('2017-04-01 00:00:00'),\n",
       " 'New Orleans Pelicans': Timestamp('2017-04-02 00:00:00'),\n",
       " 'New York Knicks': Timestamp('2017-03-28 00:00:00'),\n",
       " 'Orlando Magic': Timestamp('2017-03-27 00:00:00'),\n",
       " 'Philadelphia 76ers': Timestamp('2017-03-28 00:00:00'),\n",
       " 'Phoenix Suns': Timestamp('2017-03-21 00:00:00'),\n",
       " 'Sacramento Kings': Timestamp('2017-03-29 00:00:00')}"
      ]
     },
     "execution_count": 1232,
     "metadata": {},
     "output_type": "execute_result"
    },
    {
     "name": "stdout",
     "output_type": "stream",
     "text": [
      "time: 3.98 s\n"
     ]
    }
   ],
   "source": [
    "compare"
   ]
  },
  {
   "cell_type": "code",
   "execution_count": null,
   "metadata": {
    "collapsed": true
   },
   "outputs": [],
   "source": []
  },
  {
   "cell_type": "code",
   "execution_count": null,
   "metadata": {
    "collapsed": true
   },
   "outputs": [],
   "source": [
    "\"\"\"\n",
    "Nets: 3-7\n",
    "Hornets: 4-8\n",
    "Mavericks: 4-1\n",
    "Nuggets: 4-9\n",
    "Pistons: 4-8\n",
    "Lakers: 3-17\n",
    "Heat: 4-12\n",
    "Timberwolves: 4-1\n",
    "Pelicans: 4-4\n",
    "Knicks: 3-29\n",
    "Magic: 3-29\n",
    "76ers: 3-30\n",
    "Suns: 3-22\n",
    "Kings: 3-30\n",
    "\"\"\""
   ]
  },
  {
   "cell_type": "code",
   "execution_count": null,
   "metadata": {
    "collapsed": true
   },
   "outputs": [],
   "source": []
  }
 ],
 "metadata": {
  "kernelspec": {
   "display_name": "Python 3",
   "language": "python",
   "name": "python3"
  },
  "language_info": {
   "codemirror_mode": {
    "name": "ipython",
    "version": 3
   },
   "file_extension": ".py",
   "mimetype": "text/x-python",
   "name": "python",
   "nbconvert_exporter": "python",
   "pygments_lexer": "ipython3",
   "version": "3.6.1"
  },
  "varInspector": {
   "cols": {
    "lenName": 16,
    "lenType": 16,
    "lenVar": 40
   },
   "kernels_config": {
    "python": {
     "delete_cmd_postfix": "",
     "delete_cmd_prefix": "del ",
     "library": "var_list.py",
     "varRefreshCmd": "print(var_dic_list())"
    },
    "r": {
     "delete_cmd_postfix": ") ",
     "delete_cmd_prefix": "rm(",
     "library": "var_list.r",
     "varRefreshCmd": "cat(var_dic_list()) "
    }
   },
   "types_to_exclude": [
    "module",
    "function",
    "builtin_function_or_method",
    "instance",
    "_Feature"
   ],
   "window_display": false
  }
 },
 "nbformat": 4,
 "nbformat_minor": 2
}
