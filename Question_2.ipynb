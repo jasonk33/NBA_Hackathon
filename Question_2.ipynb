{
 "cells": [
  {
   "cell_type": "code",
   "execution_count": 73,
   "metadata": {},
   "outputs": [
    {
     "name": "stdout",
     "output_type": "stream",
     "text": [
      "The autotime extension is already loaded. To reload it, use:\n",
      "  %reload_ext autotime\n",
      "time: 252 ms\n"
     ]
    }
   ],
   "source": [
    "import pandas as pd\n",
    "import copy\n",
    "import numba\n",
    "%load_ext autotime"
   ]
  },
  {
   "cell_type": "code",
   "execution_count": 2,
   "metadata": {},
   "outputs": [
    {
     "name": "stdout",
     "output_type": "stream",
     "text": [
      "time: 158 ms\n"
     ]
    }
   ],
   "source": [
    "game_data = pd.read_excel('/Users/jason.katz/Downloads/Analytics_Attachment.xlsx', \"2016_17_NBA_Scores\")\n",
    "team_data = pd.read_excel('/Users/jason.katz/Downloads/Analytics_Attachment.xlsx', \"Division_Info\")"
   ]
  },
  {
   "cell_type": "code",
   "execution_count": 3,
   "metadata": {},
   "outputs": [
    {
     "name": "stdout",
     "output_type": "stream",
     "text": [
      "time: 4.78 ms\n"
     ]
    }
   ],
   "source": [
    "def create_game_dicts(game_data):\n",
    "    games = []\n",
    "    for index, row in game_data.iterrows():\n",
    "        game = {}\n",
    "        if row['Winner'] == 'Home':\n",
    "            game[row['Home Team']] = 'Winner'\n",
    "            game[row['Away Team']] = 'Loser'\n",
    "        else:\n",
    "            game[row['Home Team']] = 'Loser'\n",
    "            game[row['Away Team']] = 'Winner'\n",
    "        games.append(game)\n",
    "    return games"
   ]
  },
  {
   "cell_type": "code",
   "execution_count": 4,
   "metadata": {},
   "outputs": [
    {
     "name": "stdout",
     "output_type": "stream",
     "text": [
      "time: 2.13 ms\n"
     ]
    }
   ],
   "source": [
    "def simulate_games(games, teams):\n",
    "    for game in games:\n",
    "        for team in game:\n",
    "            teams[team]['Games_Played'] += 1\n",
    "            if game[team] == 'Loser':\n",
    "                teams[team]['Max_Wins'] -= 1"
   ]
  },
  {
   "cell_type": "code",
   "execution_count": 5,
   "metadata": {},
   "outputs": [
    {
     "name": "stdout",
     "output_type": "stream",
     "text": [
      "time: 2.15 ms\n"
     ]
    }
   ],
   "source": [
    "def initialize_team_standings(team_data):\n",
    "    teams = {}\n",
    "    for index, row in team_data.iterrows():\n",
    "        teams[row['Team_Name']] = {'Division': row['Division_id'], 'Conference': row['Conference_id'], 'Games_Played': 0, \n",
    "                                  'Max_Wins': 82}\n",
    "    return teams"
   ]
  },
  {
   "cell_type": "code",
   "execution_count": 6,
   "metadata": {},
   "outputs": [
    {
     "name": "stdout",
     "output_type": "stream",
     "text": [
      "time: 3.36 ms\n"
     ]
    }
   ],
   "source": [
    "def get_league_data(team_data):\n",
    "    east_divisions = set(team_data[team_data['Conference_id'] == 'East']['Division_id'])\n",
    "    west_divisions = set(team_data[team_data['Conference_id'] == 'West']['Division_id'])\n",
    "    east_teams = set(team_data[team_data['Conference_id'] == 'East']['Team_Name'])\n",
    "    west_teams = set(team_data[team_data['Conference_id'] == 'West']['Team_Name'])\n",
    "    return {'East': {'Divisions': east_divisions, 'Teams': east_teams}, \n",
    "            'West': {'Divisions': west_divisions, 'Teams': west_teams}}"
   ]
  },
  {
   "cell_type": "code",
   "execution_count": 54,
   "metadata": {},
   "outputs": [
    {
     "name": "stdout",
     "output_type": "stream",
     "text": [
      "time: 3.9 ms\n"
     ]
    }
   ],
   "source": [
    "def initialize_league_standings(team_data):\n",
    "    league_standings = {'East': {'Conference': {}, 'Atlantic': {}, 'Central': {}, 'Southeast': {}}, \n",
    "                    'West': {'Conference': {}, 'Northwest': {}, 'Southwest': {}, 'Pacific': {}}}\n",
    "    for index, row in team_data.iterrows():\n",
    "        league_standings[row['Conference_id']]['Conference'][row['Team_Name']] = 82\n",
    "        league_standings[row['Conference_id']][row['Division_id']][row['Team_Name']] = 82\n",
    "    return league_standings"
   ]
  },
  {
   "cell_type": "code",
   "execution_count": 128,
   "metadata": {},
   "outputs": [
    {
     "name": "stdout",
     "output_type": "stream",
     "text": [
      "time: 7 ms\n"
     ]
    }
   ],
   "source": [
    "def get_playoff_teams(league_data, league_standings):\n",
    "    playoff_teams_all = {}\n",
    "    for conference in ['East', 'West']:\n",
    "        division_leaders = []\n",
    "        for division in league_data[conference]['Divisions']:\n",
    "            team = max(league_standings[conference][division], key=league_standings[conference][division].get)\n",
    "            division_leaders.append(team)\n",
    "        for team, max_wins in league_standings[conference]['Conference'].items():\n",
    "            standings = sorted(league_standings[conference]['Conference'], \n",
    "                               key=league_standings[conference]['Conference'].get, reverse=True)\n",
    "            playoff_teams = [x for x in standings if x not in division_leaders][0:5] + division_leaders\n",
    "        playoff_teams_all[conference] = playoff_teams\n",
    "    return playoff_teams_all"
   ]
  },
  {
   "cell_type": "code",
   "execution_count": 131,
   "metadata": {},
   "outputs": [
    {
     "name": "stdout",
     "output_type": "stream",
     "text": [
      "time: 39.7 ms\n"
     ]
    }
   ],
   "source": [
    "class DayOfGames(object):\n",
    "    def __init__(self, data, team_standings, league_data, league_standings):\n",
    "        self.data = data\n",
    "        self.league_data = league_data\n",
    "        self.date = self.data.iloc[0,0]\n",
    "        self.games = self.create_game_dicts()\n",
    "        self.team_standings_universal = team_standings\n",
    "        self.league_standings_universal = league_standings\n",
    "        self.add_game_results()\n",
    "        self.team_standings = copy.deepcopy(self.team_standings_universal)\n",
    "        self.league_standings = copy.deepcopy(self.league_standings_universal)\n",
    "        self.playoff_teams = self.get_playoff_teams()\n",
    "        \n",
    "    def create_game_dicts(self):\n",
    "        games = []\n",
    "        for index, row in self.data.iterrows():\n",
    "            game = {}\n",
    "            if row['Winner'] == 'Home':\n",
    "                game[row['Home Team']] = 'Winner'\n",
    "                game[row['Away Team']] = 'Loser'\n",
    "            else:\n",
    "                game[row['Home Team']] = 'Loser'\n",
    "                game[row['Away Team']] = 'Winner'\n",
    "            games.append(game)\n",
    "        return games    \n",
    "        \n",
    "    def add_game_results(self):\n",
    "        for game in self.games:\n",
    "            for team in game:\n",
    "                self.team_standings_universal[team]['Games_Played'] += 1\n",
    "                if game[team] == 'Loser':\n",
    "                    self.team_standings_universal[team]['Max_Wins'] -= 1\n",
    "        for team, info in self.team_standings_universal.items():\n",
    "            self.league_standings_universal[info['Conference']]['Conference'][team] = info['Max_Wins']\n",
    "            self.league_standings_universal[info['Conference']][info['Division']][team] = info['Max_Wins']\n",
    "            \n",
    "    def get_playoff_teams(self):\n",
    "        playoff_teams_all = {}\n",
    "        for conference in ['East', 'West']:\n",
    "            division_leaders = []\n",
    "            for division in self.league_data[conference]['Divisions']:\n",
    "                team = max(self.league_standings[conference][division], \n",
    "                           key=self.league_standings[conference][division].get)\n",
    "                division_leaders.append(team)\n",
    "            for team, max_wins in self.league_standings[conference]['Conference'].items():\n",
    "                standings = sorted(self.league_standings[conference]['Conference'], \n",
    "                                   key=self.league_standings[conference]['Conference'].get, reverse=True)\n",
    "                playoff_teams = [x for x in standings if x not in division_leaders][0:5] + division_leaders\n",
    "            playoff_teams_all[conference] = playoff_teams\n",
    "        return playoff_teams_all"
   ]
  },
  {
   "cell_type": "code",
   "execution_count": 132,
   "metadata": {},
   "outputs": [
    {
     "name": "stdout",
     "output_type": "stream",
     "text": [
      "time: 370 ms\n"
     ]
    }
   ],
   "source": [
    "league_data = get_league_data(team_data)\n",
    "team_standings = initialize_team_standings(team_data)\n",
    "league_standings = initialize_league_standings(team_data)\n",
    "days = []\n",
    "first_game_date = game_data.iloc[0,0]\n",
    "first_game_index = 0\n",
    "for index, row in game_data.iloc[0:].iterrows():\n",
    "    if row['Date'] != first_game_date:\n",
    "        days.append(DayOfGames(game_data.iloc[first_game_index:index], team_standings, league_data, league_standings))\n",
    "        first_game_index = index\n",
    "        first_game_date = row['Date']\n",
    "days.append(DayOfGames(game_data.iloc[first_game_index:index+1], team_standings, league_data, league_standings))"
   ]
  }
 ],
 "metadata": {
  "kernelspec": {
   "display_name": "Python 3",
   "language": "python",
   "name": "python3"
  },
  "language_info": {
   "codemirror_mode": {
    "name": "ipython",
    "version": 3
   },
   "file_extension": ".py",
   "mimetype": "text/x-python",
   "name": "python",
   "nbconvert_exporter": "python",
   "pygments_lexer": "ipython3",
   "version": "3.6.1"
  },
  "varInspector": {
   "cols": {
    "lenName": 16,
    "lenType": 16,
    "lenVar": 40
   },
   "kernels_config": {
    "python": {
     "delete_cmd_postfix": "",
     "delete_cmd_prefix": "del ",
     "library": "var_list.py",
     "varRefreshCmd": "print(var_dic_list())"
    },
    "r": {
     "delete_cmd_postfix": ") ",
     "delete_cmd_prefix": "rm(",
     "library": "var_list.r",
     "varRefreshCmd": "cat(var_dic_list()) "
    }
   },
   "types_to_exclude": [
    "module",
    "function",
    "builtin_function_or_method",
    "instance",
    "_Feature"
   ],
   "window_display": false
  }
 },
 "nbformat": 4,
 "nbformat_minor": 2
}
