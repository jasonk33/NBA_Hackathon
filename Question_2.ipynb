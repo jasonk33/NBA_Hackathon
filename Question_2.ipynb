{
 "cells": [
  {
   "cell_type": "code",
   "execution_count": 19,
   "metadata": {},
   "outputs": [],
   "source": [
    "import pandas as pd\n",
    "%load_ext autotime"
   ]
  },
  {
   "cell_type": "code",
   "execution_count": 14,
   "metadata": {},
   "outputs": [],
   "source": [
    "game_data = pd.read_excel('/Users/jason.katz/Downloads/Analytics_Attachment.xlsx', \"2016_17_NBA_Scores\")\n",
    "team_data = pd.read_excel('/Users/jason.katz/Downloads/Analytics_Attachment.xlsx', \"Division_Info\")"
   ]
  },
  {
   "cell_type": "code",
   "execution_count": 23,
   "metadata": {},
   "outputs": [
    {
     "name": "stdout",
     "output_type": "stream",
     "text": [
      "time: 4.58 ms\n"
     ]
    }
   ],
   "source": [
    "teams = {}\n",
    "for index, row in team_data.iterrows():\n",
    "    teams[row['Team_Name']] = {'Division': row['Division_id'], 'Conference': row['Conference_id']}"
   ]
  },
  {
   "cell_type": "code",
   "execution_count": 37,
   "metadata": {},
   "outputs": [
    {
     "data": {
      "text/plain": [
       "Timestamp('2016-10-25 00:00:00')"
      ]
     },
     "execution_count": 37,
     "metadata": {},
     "output_type": "execute_result"
    },
    {
     "name": "stdout",
     "output_type": "stream",
     "text": [
      "time: 4.54 ms\n"
     ]
    }
   ],
   "source": [
    "game_data.iloc[0:3]['Date'][0]"
   ]
  },
  {
   "cell_type": "code",
   "execution_count": 38,
   "metadata": {},
   "outputs": [
    {
     "data": {
      "text/plain": [
       "Date          2016-10-25 00:00:00\n",
       "Home Team     Cleveland Cavaliers\n",
       "Away Team         New York Knicks\n",
       "Home Score                    117\n",
       "Away Score                     88\n",
       "Winner                       Home\n",
       "Name: 0, dtype: object"
      ]
     },
     "execution_count": 38,
     "metadata": {},
     "output_type": "execute_result"
    },
    {
     "name": "stdout",
     "output_type": "stream",
     "text": [
      "time: 3.92 ms\n"
     ]
    }
   ],
   "source": [
    "game_data.iloc[0]"
   ]
  },
  {
   "cell_type": "code",
   "execution_count": 51,
   "metadata": {},
   "outputs": [
    {
     "name": "stdout",
     "output_type": "stream",
     "text": [
      "time: 4.89 ms\n"
     ]
    }
   ],
   "source": [
    "games = []\n",
    "for index, row in game_data.iloc[0:3].iterrows():\n",
    "    game = {}\n",
    "    if row['Winner'] == 'Home':\n",
    "        game[row['Home Team']] = 'Winner'\n",
    "        game[row['Away Team']] = 'Loser'\n",
    "    else:\n",
    "        game[row['Home Team']] = 'Loser'\n",
    "        game[row['Away Team']] = 'Winner'\n",
    "    games.append(game)"
   ]
  },
  {
   "cell_type": "code",
   "execution_count": 52,
   "metadata": {},
   "outputs": [
    {
     "data": {
      "text/plain": [
       "[{'Cleveland Cavaliers': 'Winner', 'New York Knicks': 'Loser'},\n",
       " {'Portland Trail Blazers': 'Winner', 'Utah Jazz': 'Loser'},\n",
       " {'Golden State Warriors': 'Loser', 'San Antonio Spurs': 'Winner'}]"
      ]
     },
     "execution_count": 52,
     "metadata": {},
     "output_type": "execute_result"
    },
    {
     "name": "stdout",
     "output_type": "stream",
     "text": [
      "time: 2.53 ms\n"
     ]
    }
   ],
   "source": [
    "games"
   ]
  },
  {
   "cell_type": "code",
   "execution_count": 34,
   "metadata": {},
   "outputs": [
    {
     "data": {
      "text/html": [
       "<div>\n",
       "<style>\n",
       "    .dataframe thead tr:only-child th {\n",
       "        text-align: right;\n",
       "    }\n",
       "\n",
       "    .dataframe thead th {\n",
       "        text-align: left;\n",
       "    }\n",
       "\n",
       "    .dataframe tbody tr th {\n",
       "        vertical-align: top;\n",
       "    }\n",
       "</style>\n",
       "<table border=\"1\" class=\"dataframe\">\n",
       "  <thead>\n",
       "    <tr style=\"text-align: right;\">\n",
       "      <th></th>\n",
       "      <th>Date</th>\n",
       "      <th>Home Team</th>\n",
       "      <th>Away Team</th>\n",
       "      <th>Home Score</th>\n",
       "      <th>Away Score</th>\n",
       "      <th>Winner</th>\n",
       "    </tr>\n",
       "  </thead>\n",
       "  <tbody>\n",
       "    <tr>\n",
       "      <th>0</th>\n",
       "      <td>2016-10-25</td>\n",
       "      <td>Cleveland Cavaliers</td>\n",
       "      <td>New York Knicks</td>\n",
       "      <td>117</td>\n",
       "      <td>88</td>\n",
       "      <td>Home</td>\n",
       "    </tr>\n",
       "    <tr>\n",
       "      <th>1</th>\n",
       "      <td>2016-10-25</td>\n",
       "      <td>Portland Trail Blazers</td>\n",
       "      <td>Utah Jazz</td>\n",
       "      <td>113</td>\n",
       "      <td>104</td>\n",
       "      <td>Home</td>\n",
       "    </tr>\n",
       "    <tr>\n",
       "      <th>2</th>\n",
       "      <td>2016-10-25</td>\n",
       "      <td>Golden State Warriors</td>\n",
       "      <td>San Antonio Spurs</td>\n",
       "      <td>100</td>\n",
       "      <td>129</td>\n",
       "      <td>Away</td>\n",
       "    </tr>\n",
       "  </tbody>\n",
       "</table>\n",
       "</div>"
      ],
      "text/plain": [
       "        Date               Home Team          Away Team  Home Score  \\\n",
       "0 2016-10-25     Cleveland Cavaliers    New York Knicks         117   \n",
       "1 2016-10-25  Portland Trail Blazers          Utah Jazz         113   \n",
       "2 2016-10-25   Golden State Warriors  San Antonio Spurs         100   \n",
       "\n",
       "   Away Score Winner  \n",
       "0          88   Home  \n",
       "1         104   Home  \n",
       "2         129   Away  "
      ]
     },
     "execution_count": 34,
     "metadata": {},
     "output_type": "execute_result"
    },
    {
     "name": "stdout",
     "output_type": "stream",
     "text": [
      "time: 9.01 ms\n"
     ]
    }
   ],
   "source": [
    "for index, row in game_data.iloc[0:3]:"
   ]
  },
  {
   "cell_type": "code",
   "execution_count": null,
   "metadata": {
    "collapsed": true
   },
   "outputs": [],
   "source": [
    "class Game(object):\n",
    "    def __init__(self, data):\n",
    "        self.data = data\n",
    "        \n",
    "    @property\n",
    "    def "
   ]
  },
  {
   "cell_type": "code",
   "execution_count": null,
   "metadata": {
    "collapsed": true
   },
   "outputs": [],
   "source": [
    "class DayOfGames(object):\n",
    "    def __init__(self, data):\n",
    "        self.data = data\n",
    "        self.date = games['Date'][0]"
   ]
  }
 ],
 "metadata": {
  "kernelspec": {
   "display_name": "Python 3",
   "language": "python",
   "name": "python3"
  },
  "language_info": {
   "codemirror_mode": {
    "name": "ipython",
    "version": 3
   },
   "file_extension": ".py",
   "mimetype": "text/x-python",
   "name": "python",
   "nbconvert_exporter": "python",
   "pygments_lexer": "ipython3",
   "version": "3.6.1"
  },
  "varInspector": {
   "cols": {
    "lenName": 16,
    "lenType": 16,
    "lenVar": 40
   },
   "kernels_config": {
    "python": {
     "delete_cmd_postfix": "",
     "delete_cmd_prefix": "del ",
     "library": "var_list.py",
     "varRefreshCmd": "print(var_dic_list())"
    },
    "r": {
     "delete_cmd_postfix": ") ",
     "delete_cmd_prefix": "rm(",
     "library": "var_list.r",
     "varRefreshCmd": "cat(var_dic_list()) "
    }
   },
   "types_to_exclude": [
    "module",
    "function",
    "builtin_function_or_method",
    "instance",
    "_Feature"
   ],
   "window_display": false
  }
 },
 "nbformat": 4,
 "nbformat_minor": 2
}
