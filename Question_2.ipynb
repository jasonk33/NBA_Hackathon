{
 "cells": [
  {
   "cell_type": "code",
   "execution_count": 1087,
   "metadata": {},
   "outputs": [
    {
     "name": "stdout",
     "output_type": "stream",
     "text": [
      "The autotime extension is already loaded. To reload it, use:\n",
      "  %reload_ext autotime\n",
      "time: 3.17 ms\n"
     ]
    }
   ],
   "source": [
    "import pandas as pd\n",
    "import copy\n",
    "import numba\n",
    "from itertools import permutations\n",
    "%load_ext autotime"
   ]
  },
  {
   "cell_type": "code",
   "execution_count": 2,
   "metadata": {},
   "outputs": [
    {
     "name": "stdout",
     "output_type": "stream",
     "text": [
      "time: 158 ms\n"
     ]
    }
   ],
   "source": [
    "game_data = pd.read_excel('/Users/jason.katz/Downloads/Analytics_Attachment.xlsx', \"2016_17_NBA_Scores\")\n",
    "team_data = pd.read_excel('/Users/jason.katz/Downloads/Analytics_Attachment.xlsx', \"Division_Info\")"
   ]
  },
  {
   "cell_type": "code",
   "execution_count": 148,
   "metadata": {},
   "outputs": [
    {
     "name": "stdout",
     "output_type": "stream",
     "text": [
      "time: 2.59 ms\n"
     ]
    }
   ],
   "source": [
    "def initialize_team_standings(team_data):\n",
    "    teams = {}\n",
    "    for index, row in team_data.iterrows():\n",
    "        teams[row['Team_Name']] = {'Division': row['Division_id'], 'Conference': row['Conference_id'], \n",
    "                                   'Games_Left': 82, 'Max_Wins': 82, 'Games_Won': 0}\n",
    "    return teams"
   ]
  },
  {
   "cell_type": "code",
   "execution_count": 149,
   "metadata": {},
   "outputs": [
    {
     "name": "stdout",
     "output_type": "stream",
     "text": [
      "time: 2.85 ms\n"
     ]
    }
   ],
   "source": [
    "def get_league_data(team_data):\n",
    "    east_divisions = set(team_data[team_data['Conference_id'] == 'East']['Division_id'])\n",
    "    west_divisions = set(team_data[team_data['Conference_id'] == 'West']['Division_id'])\n",
    "    east_teams = set(team_data[team_data['Conference_id'] == 'East']['Team_Name'])\n",
    "    west_teams = set(team_data[team_data['Conference_id'] == 'West']['Team_Name'])\n",
    "    return {'East': {'Divisions': east_divisions, 'Teams': east_teams}, \n",
    "            'West': {'Divisions': west_divisions, 'Teams': west_teams}}"
   ]
  },
  {
   "cell_type": "code",
   "execution_count": 150,
   "metadata": {},
   "outputs": [
    {
     "name": "stdout",
     "output_type": "stream",
     "text": [
      "time: 3.8 ms\n"
     ]
    }
   ],
   "source": [
    "def initialize_league_standings(team_data):\n",
    "    league_standings = {'East': {'Conference': {}, 'Atlantic': {}, 'Central': {}, 'Southeast': {}}, \n",
    "                    'West': {'Conference': {}, 'Northwest': {}, 'Southwest': {}, 'Pacific': {}}}\n",
    "    for index, row in team_data.iterrows():\n",
    "        league_standings[row['Conference_id']]['Conference'][row['Team_Name']] = 82\n",
    "        league_standings[row['Conference_id']][row['Division_id']][row['Team_Name']] = 82\n",
    "    return league_standings"
   ]
  },
  {
   "cell_type": "code",
   "execution_count": 1103,
   "metadata": {},
   "outputs": [
    {
     "name": "stdout",
     "output_type": "stream",
     "text": [
      "time: 199 ms\n"
     ]
    }
   ],
   "source": [
    "class DayOfGames(object):\n",
    "    def __init__(self, data, team_standings, league_standings):\n",
    "        self.data = data\n",
    "        self.date = self.data.iloc[0,0]\n",
    "        self.games = self.create_game_dicts()\n",
    "        self.games_simulation = copy.deepcopy(self.games)\n",
    "        self.team_standings_simulation = copy.deepcopy(DayOfGames.team_standings_class)\n",
    "        self.league_standings_simulation = copy.deepcopy(DayOfGames.league_standings_class)\n",
    "        self.add_game_results()\n",
    "        self.team_standings = copy.deepcopy(DayOfGames.team_standings_class)\n",
    "        self.league_standings = copy.deepcopy(DayOfGames.league_standings_class)\n",
    "        self.playoff_teams = self.get_playoff_teams()\n",
    "        \n",
    "    def create_game_dicts(self):\n",
    "        games = []\n",
    "        for index, row in self.data.iterrows():\n",
    "            game = {}\n",
    "            if row['Winner'] == 'Home':\n",
    "                game[row['Home Team']] = 'Winner'\n",
    "                game[row['Away Team']] = 'Loser'\n",
    "            else:\n",
    "                game[row['Home Team']] = 'Loser'\n",
    "                game[row['Away Team']] = 'Winner'\n",
    "            games.append(game)\n",
    "        return games    \n",
    "        \n",
    "    def add_game_results(self):\n",
    "        for game in self.games:\n",
    "            for team in game:\n",
    "                self.team_standings_class[team]['Games_Left'] -= 1\n",
    "                if game[team] == 'Loser':\n",
    "                    self.team_standings_class[team]['Max_Wins'] -= 1\n",
    "                else:\n",
    "                    self.team_standings_class[team]['Games_Won'] += 1\n",
    "        for team, info in self.team_standings_class.items():\n",
    "            self.league_standings_class[info['Conference']]['Conference'][team] = info['Max_Wins']\n",
    "            self.league_standings_class[info['Conference']][info['Division']][team] = info['Max_Wins']\n",
    "            \n",
    "    def simulate_day(self, team_name, win, other_teams=[]):\n",
    "        for game in self.games_simulation:\n",
    "            if team_name in game and not [i for i in other_teams if i in game]:\n",
    "                for team in game:\n",
    "                    if team == team_name:\n",
    "                        if win:\n",
    "                            game[team] = 'Winner'\n",
    "                        else:\n",
    "                            game[team] = 'Loser'\n",
    "                    else:\n",
    "                        if win:\n",
    "                            game[team] = 'Loser'\n",
    "                        else:\n",
    "                            game[team] = 'Winner'        \n",
    "            \n",
    "    def add_simulation_results(self):\n",
    "        for game in self.games_simulation:\n",
    "            for team in game:\n",
    "                DayOfGames.team_standings_simulation_class[team]['Games_Left'] -= 1\n",
    "                if game[team] == 'Loser':\n",
    "                    DayOfGames.team_standings_simulation_class[team]['Max_Wins'] -= 1\n",
    "                else:\n",
    "                    DayOfGames.team_standings_simulation_class[team]['Games_Won'] += 1\n",
    "        for team, info in DayOfGames.team_standings_simulation_class.items():\n",
    "            DayOfGames.league_standings_simulation_class[info['Conference']]['Conference'][team] = info['Max_Wins']\n",
    "            DayOfGames.league_standings_simulation_class[info['Conference']][info['Division']][team] = info['Max_Wins']    \n",
    "        \n",
    "    def get_playoff_teams(self, final_day=False):\n",
    "        playoff_teams_all = {}\n",
    "        for conference in ['East', 'West']:\n",
    "            division_leaders = []\n",
    "            for division in self.league_data[conference]['Divisions']:\n",
    "                team = max(self.league_standings[conference][division], \n",
    "                           key=self.league_standings[conference][division].get)\n",
    "                division_leaders.append(team)\n",
    "            for team, max_wins in self.league_standings[conference]['Conference'].items():\n",
    "                standings = sorted(self.league_standings[conference]['Conference'], \n",
    "                                   key=self.league_standings[conference]['Conference'].get, reverse=True)\n",
    "                playoff_teams = [x for x in standings if x not in division_leaders][0:5] + division_leaders\n",
    "            playoff_teams_all[conference] = playoff_teams\n",
    "        if final_day:\n",
    "            DayOfGames.final_playoff_teams = playoff_teams_all\n",
    "        else:\n",
    "            return playoff_teams_all\n",
    "        \n",
    "    def get_playoff_teams_simulation(self):\n",
    "        playoff_teams_all = {}\n",
    "        for conference in ['East', 'West']:\n",
    "            division_leaders = []\n",
    "            for division in self.league_data[conference]['Divisions']:\n",
    "                team = max(DayOfGames.league_standings_simulation_class[conference][division], \n",
    "                           key=DayOfGames.league_standings_simulation_class[conference][division].get)\n",
    "                division_leaders.append(team)\n",
    "            for team, max_wins in DayOfGames.league_standings_simulation_class[conference]['Conference'].items():\n",
    "                standings = sorted(DayOfGames.league_standings_simulation_class[conference]['Conference'], \n",
    "                                   key=DayOfGames.league_standings_simulation_class[conference]['Conference'].get, reverse=True)\n",
    "                playoff_teams = [x for x in standings if x not in division_leaders][0:5] + division_leaders\n",
    "            playoff_teams_all[conference] = playoff_teams\n",
    "        return playoff_teams_all\n",
    "    \n",
    "    @staticmethod\n",
    "    def initialize_class_variables():\n",
    "        DayOfGames.team_standings_class = initialize_team_standings(team_data)\n",
    "        DayOfGames.team_standings_simulation_class = initialize_team_standings(team_data)\n",
    "        DayOfGames.league_standings_class = initialize_league_standings(team_data)\n",
    "        DayOfGames.league_standings_simulation_class = initialize_league_standings(team_data)\n",
    "        DayOfGames.league_data = get_league_data(team_data)\n",
    "        DayOfGames.days = []\n",
    "        \n",
    "    @staticmethod\n",
    "    def calculate_first_day_to_check():\n",
    "        elimination_days = {'East': {}, 'West': {}}\n",
    "        total_days = len(DayOfGames.days)\n",
    "        for conference in ['East', 'West']:\n",
    "            for team in DayOfGames.league_data[conference]['Teams']:\n",
    "                if team not in DayOfGames.final_playoff_teams[conference]:\n",
    "                    day_num = total_days\n",
    "                    eliminated = True\n",
    "                    while eliminated:\n",
    "                        day_num -= 1\n",
    "                        max_wins = DayOfGames.days[day_num].team_standings[team]['Max_Wins']\n",
    "                        can_overtake = False\n",
    "                        for other_team in DayOfGames.days[day_num].playoff_teams[conference]:\n",
    "                            if max_wins > DayOfGames.days[day_num].team_standings[other_team]['Games_Won']:\n",
    "                                can_overtake = True\n",
    "                                eliminated = False\n",
    "                    elimination_days[conference][team] = day_num\n",
    "        DayOfGames.first_potential_not_eliminated_day = elimination_days\n",
    "        \n",
    "    def reset_game_simulation(self):\n",
    "        self.games_simulation = copy.deepcopy(self.games)"
   ]
  },
  {
   "cell_type": "code",
   "execution_count": 1104,
   "metadata": {},
   "outputs": [
    {
     "name": "stdout",
     "output_type": "stream",
     "text": [
      "time: 474 ms\n"
     ]
    }
   ],
   "source": [
    "league_data = get_league_data(team_data)\n",
    "team_standings = initialize_team_standings(team_data)\n",
    "league_standings = initialize_league_standings(team_data)\n",
    "first_game_date = game_data.iloc[0,0]\n",
    "first_game_index = 0\n",
    "DayOfGames.initialize_class_variables()\n",
    "for index, row in game_data.iloc[0:].iterrows():\n",
    "    if row['Date'] != first_game_date:\n",
    "        DayOfGames.days.append(DayOfGames(game_data.iloc[first_game_index:index], team_standings, league_standings))\n",
    "        first_game_index = index\n",
    "        first_game_date = row['Date']\n",
    "DayOfGames.days.append(DayOfGames(game_data.iloc[first_game_index:index+1], team_standings, league_standings,))\n",
    "for idx, day in enumerate(DayOfGames.days):\n",
    "    setattr(day, 'day', idx)\n",
    "DayOfGames.days[-1].get_playoff_teams(True)\n",
    "DayOfGames.calculate_first_day_to_check()"
   ]
  },
  {
   "cell_type": "code",
   "execution_count": 1105,
   "metadata": {},
   "outputs": [
    {
     "name": "stdout",
     "output_type": "stream",
     "text": [
      "time: 3.84 ms\n"
     ]
    }
   ],
   "source": [
    "def run_simulation(day_num, team, win, simulated_teams=[], total_days=162):\n",
    "    DayOfGames.team_standings_simulation_class = copy.deepcopy(DayOfGames.days[day_num].team_standings_simulation)\n",
    "    DayOfGames.league_standings_simulation_class = copy.deepcopy(DayOfGames.days[day_num].league_standings_simulation)\n",
    "    for day in range(day_num, total_days):\n",
    "        DayOfGames.days[day].simulate_day(team, win, simulated_teams)\n",
    "        DayOfGames.days[day].add_simulation_results()\n",
    "    simulated_teams.append(team)"
   ]
  },
  {
   "cell_type": "code",
   "execution_count": 1108,
   "metadata": {},
   "outputs": [
    {
     "name": "stdout",
     "output_type": "stream",
     "text": [
      "time: 3.2 ms\n"
     ]
    }
   ],
   "source": [
    "def simulate_teams_to_win(day_num, conference, max_wins, simulated_teams):\n",
    "    for other_team in DayOfGames.league_data[conference]['Teams']:\n",
    "        more_wins_than_max = max_wins < DayOfGames.days[day_num].team_standings[other_team]['Games_Won']\n",
    "        less_max_wins = max_wins > DayOfGames.days[day_num].team_standings[other_team]['Max_Wins']\n",
    "        if other_team not in simulated_teams and (more_wins_than_max or less_max_wins):\n",
    "            run_simulation(day_num, other_team, True, simulated_teams)"
   ]
  },
  {
   "cell_type": "code",
   "execution_count": 1109,
   "metadata": {},
   "outputs": [
    {
     "name": "stdout",
     "output_type": "stream",
     "text": [
      "time: 5.55 ms\n"
     ]
    }
   ],
   "source": [
    "def simulate_teams_to_lose(team, day_num, conference, max_wins, simulated_teams):\n",
    "    simulated_teams_copy = copy.deepcopy(simulated_teams)\n",
    "    teams_left = copy.deepcopy(DayOfGames.league_data[conference]['Teams'])\n",
    "    for simulated_team in simulated_teams_copy:\n",
    "        teams_left.remove(simulated_team)\n",
    "    possible_sims = list(itertools.permutations(teams_left))\n",
    "    for sim in possible_sims:\n",
    "        for other_team in sim:\n",
    "            run_simulation(day_num, other_team, False, simulated_teams)\n",
    "            if team in DayOfGames.days[-1].get_playoff_teams_simulation()[conference]:\n",
    "                return True\n",
    "            simulated_teams = copy.deepcopy(simulated_teams_copy)\n",
    "    return False"
   ]
  },
  {
   "cell_type": "code",
   "execution_count": 1110,
   "metadata": {
    "code_folding": []
   },
   "outputs": [
    {
     "data": {
      "text/plain": [
       "{'Brooklyn Nets': Timestamp('2017-03-06 00:00:00'),\n",
       " 'Charlotte Hornets': Timestamp('2017-04-06 00:00:00'),\n",
       " 'Dallas Mavericks': Timestamp('2017-04-01 00:00:00'),\n",
       " 'Denver Nuggets': Timestamp('2017-04-09 00:00:00'),\n",
       " 'Detroit Pistons': Timestamp('2017-04-06 00:00:00'),\n",
       " 'Los Angeles Lakers': Timestamp('2017-03-17 00:00:00'),\n",
       " 'Miami Heat': Timestamp('2017-04-12 00:00:00'),\n",
       " 'Minnesota Timberwolves': Timestamp('2017-04-01 00:00:00'),\n",
       " 'New Orleans Pelicans': Timestamp('2017-04-02 00:00:00'),\n",
       " 'New York Knicks': Timestamp('2017-03-28 00:00:00'),\n",
       " 'Orlando Magic': Timestamp('2017-03-27 00:00:00'),\n",
       " 'Philadelphia 76ers': Timestamp('2017-03-28 00:00:00'),\n",
       " 'Phoenix Suns': Timestamp('2017-03-21 00:00:00'),\n",
       " 'Sacramento Kings': Timestamp('2017-03-29 00:00:00')}"
      ]
     },
     "execution_count": 1110,
     "metadata": {},
     "output_type": "execute_result"
    },
    {
     "name": "stdout",
     "output_type": "stream",
     "text": [
      "time: 1.63 s\n"
     ]
    }
   ],
   "source": [
    "total_days = len(DayOfGames.days)\n",
    "elimination_day = {}\n",
    "for conference in ['East', 'West']:\n",
    "    for team in DayOfGames.first_potential_not_eliminated_day[conference]:\n",
    "        if team not in DayOfGames.final_playoff_teams[conference]:\n",
    "            day_num = DayOfGames.first_potential_not_eliminated_day[conference][team]+1\n",
    "            while day_num>=0:\n",
    "                day_num -= 1\n",
    "                if team in DayOfGames.days[day_num].playoff_teams[conference]:\n",
    "                    break\n",
    "                else:\n",
    "                    for games in DayOfGames.days:\n",
    "                        games.reset_game_simulation()\n",
    "                    max_wins = DayOfGames.days[day_num].team_standings[team]['Max_Wins']\n",
    "                    simulated_teams = []\n",
    "                    run_simulation(day_num, team, True, simulated_teams)\n",
    "                    if team in DayOfGames.days[-1].get_playoff_teams_simulation()[conference]:\n",
    "                        break\n",
    "                    else:\n",
    "                        simulate_teams_to_win(day_num, conference, max_wins, simulated_teams)\n",
    "                        if team in DayOfGames.days[-1].get_playoff_teams_simulation()[conference]:\n",
    "                            break\n",
    "                        else:\n",
    "                            simulate_teams_to_lose(team, day_num, conference, max_wins, simulated_teams)\n",
    "                            if simulate_teams_to_lose(team, day_num, conference, max_wins, simulated_teams):\n",
    "                                break\n",
    "            if day_num < 0:\n",
    "                print('Something went wrong, team was always found to be eliminated')\n",
    "            elimination_day[team] = DayOfGames.days[day_num+1].date\n",
    "elimination_day"
   ]
  },
  {
   "cell_type": "code",
   "execution_count": 1111,
   "metadata": {},
   "outputs": [
    {
     "data": {
      "text/plain": [
       "{'Brooklyn Nets': Timestamp('2017-03-06 00:00:00'),\n",
       " 'Charlotte Hornets': Timestamp('2017-04-06 00:00:00'),\n",
       " 'Dallas Mavericks': Timestamp('2017-04-01 00:00:00'),\n",
       " 'Denver Nuggets': Timestamp('2017-04-09 00:00:00'),\n",
       " 'Detroit Pistons': Timestamp('2017-04-06 00:00:00'),\n",
       " 'Los Angeles Lakers': Timestamp('2017-03-17 00:00:00'),\n",
       " 'Miami Heat': Timestamp('2017-04-12 00:00:00'),\n",
       " 'Minnesota Timberwolves': Timestamp('2017-04-01 00:00:00'),\n",
       " 'New Orleans Pelicans': Timestamp('2017-04-02 00:00:00'),\n",
       " 'New York Knicks': Timestamp('2017-03-28 00:00:00'),\n",
       " 'Orlando Magic': Timestamp('2017-03-27 00:00:00'),\n",
       " 'Philadelphia 76ers': Timestamp('2017-03-28 00:00:00'),\n",
       " 'Phoenix Suns': Timestamp('2017-03-21 00:00:00'),\n",
       " 'Sacramento Kings': Timestamp('2017-03-29 00:00:00')}"
      ]
     },
     "execution_count": 1111,
     "metadata": {},
     "output_type": "execute_result"
    },
    {
     "name": "stdout",
     "output_type": "stream",
     "text": [
      "time: 3.53 ms\n"
     ]
    }
   ],
   "source": [
    "elimination_day"
   ]
  },
  {
   "cell_type": "code",
   "execution_count": null,
   "metadata": {
    "collapsed": true
   },
   "outputs": [],
   "source": [
    "\"\"\"\n",
    "Nets: 3-7\n",
    "Hornets: 4-8\n",
    "Mavericks: 4-1\n",
    "Nuggets: 4-9\n",
    "Pistons: 4-6\n",
    "Lakers: 3-17\n",
    "Heat: 4-12\n",
    "Timberwolves: 4-1\n",
    "Pelicans: 4-4\n",
    "Knicks: 3-29\n",
    "Magic: 3-29\n",
    "76ers: 3-30\n",
    "Suns: 3-22\n",
    "Kings: 3-30\n",
    "\"\"\""
   ]
  },
  {
   "cell_type": "code",
   "execution_count": null,
   "metadata": {
    "collapsed": true
   },
   "outputs": [],
   "source": []
  }
 ],
 "metadata": {
  "kernelspec": {
   "display_name": "Python 3",
   "language": "python",
   "name": "python3"
  },
  "language_info": {
   "codemirror_mode": {
    "name": "ipython",
    "version": 3
   },
   "file_extension": ".py",
   "mimetype": "text/x-python",
   "name": "python",
   "nbconvert_exporter": "python",
   "pygments_lexer": "ipython3",
   "version": "3.6.1"
  },
  "varInspector": {
   "cols": {
    "lenName": 16,
    "lenType": 16,
    "lenVar": 40
   },
   "kernels_config": {
    "python": {
     "delete_cmd_postfix": "",
     "delete_cmd_prefix": "del ",
     "library": "var_list.py",
     "varRefreshCmd": "print(var_dic_list())"
    },
    "r": {
     "delete_cmd_postfix": ") ",
     "delete_cmd_prefix": "rm(",
     "library": "var_list.r",
     "varRefreshCmd": "cat(var_dic_list()) "
    }
   },
   "types_to_exclude": [
    "module",
    "function",
    "builtin_function_or_method",
    "instance",
    "_Feature"
   ],
   "window_display": false
  }
 },
 "nbformat": 4,
 "nbformat_minor": 2
}
